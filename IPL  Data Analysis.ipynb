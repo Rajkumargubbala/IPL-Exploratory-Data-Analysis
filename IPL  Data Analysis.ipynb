{
 "cells": [
  {
   "cell_type": "code",
   "execution_count": 1,
   "id": "a449c5ae",
   "metadata": {},
   "outputs": [],
   "source": [
    "# Surpress warnings:\n",
    "def warn(*args, **kwargs):\n",
    "    pass\n",
    "import warnings\n",
    "warnings.warn = warn"
   ]
  },
  {
   "cell_type": "code",
   "execution_count": 61,
   "id": "2391ed4e",
   "metadata": {},
   "outputs": [],
   "source": [
    "import numpy as np\n",
    "import pandas as pd\n",
    "import matplotlib.pyplot as plt\n",
    "import seaborn as sns"
   ]
  },
  {
   "cell_type": "markdown",
   "id": "01d8c5b4",
   "metadata": {},
   "source": [
    "## Loading Dataset 1"
   ]
  },
  {
   "cell_type": "code",
   "execution_count": 5,
   "id": "30d1b31a",
   "metadata": {},
   "outputs": [],
   "source": [
    "matches= pd.read_csv(r\"C:\\Users\\RAJ KUMAR GUBBALA\\Downloads\\matches.csv\")"
   ]
  },
  {
   "cell_type": "code",
   "execution_count": 7,
   "id": "9c3c0f2c",
   "metadata": {},
   "outputs": [
    {
     "data": {
      "text/html": [
       "<div>\n",
       "<style scoped>\n",
       "    .dataframe tbody tr th:only-of-type {\n",
       "        vertical-align: middle;\n",
       "    }\n",
       "\n",
       "    .dataframe tbody tr th {\n",
       "        vertical-align: top;\n",
       "    }\n",
       "\n",
       "    .dataframe thead th {\n",
       "        text-align: right;\n",
       "    }\n",
       "</style>\n",
       "<table border=\"1\" class=\"dataframe\">\n",
       "  <thead>\n",
       "    <tr style=\"text-align: right;\">\n",
       "      <th></th>\n",
       "      <th>id</th>\n",
       "      <th>season</th>\n",
       "      <th>city</th>\n",
       "      <th>date</th>\n",
       "      <th>team1</th>\n",
       "      <th>team2</th>\n",
       "      <th>toss_winner</th>\n",
       "      <th>toss_decision</th>\n",
       "      <th>result</th>\n",
       "      <th>dl_applied</th>\n",
       "      <th>winner</th>\n",
       "      <th>win_by_runs</th>\n",
       "      <th>win_by_wickets</th>\n",
       "      <th>player_of_match</th>\n",
       "      <th>venue</th>\n",
       "      <th>umpire1</th>\n",
       "      <th>umpire2</th>\n",
       "      <th>umpire3</th>\n",
       "    </tr>\n",
       "  </thead>\n",
       "  <tbody>\n",
       "    <tr>\n",
       "      <th>0</th>\n",
       "      <td>1</td>\n",
       "      <td>2017</td>\n",
       "      <td>Hyderabad</td>\n",
       "      <td>2017-04-05</td>\n",
       "      <td>Sunrisers Hyderabad</td>\n",
       "      <td>Royal Challengers Bangalore</td>\n",
       "      <td>Royal Challengers Bangalore</td>\n",
       "      <td>field</td>\n",
       "      <td>normal</td>\n",
       "      <td>0</td>\n",
       "      <td>Sunrisers Hyderabad</td>\n",
       "      <td>35</td>\n",
       "      <td>0</td>\n",
       "      <td>Yuvraj Singh</td>\n",
       "      <td>Rajiv Gandhi International Stadium, Uppal</td>\n",
       "      <td>AY Dandekar</td>\n",
       "      <td>NJ Llong</td>\n",
       "      <td>NaN</td>\n",
       "    </tr>\n",
       "    <tr>\n",
       "      <th>1</th>\n",
       "      <td>2</td>\n",
       "      <td>2017</td>\n",
       "      <td>Pune</td>\n",
       "      <td>2017-04-06</td>\n",
       "      <td>Mumbai Indians</td>\n",
       "      <td>Rising Pune Supergiant</td>\n",
       "      <td>Rising Pune Supergiant</td>\n",
       "      <td>field</td>\n",
       "      <td>normal</td>\n",
       "      <td>0</td>\n",
       "      <td>Rising Pune Supergiant</td>\n",
       "      <td>0</td>\n",
       "      <td>7</td>\n",
       "      <td>SPD Smith</td>\n",
       "      <td>Maharashtra Cricket Association Stadium</td>\n",
       "      <td>A Nand Kishore</td>\n",
       "      <td>S Ravi</td>\n",
       "      <td>NaN</td>\n",
       "    </tr>\n",
       "    <tr>\n",
       "      <th>2</th>\n",
       "      <td>3</td>\n",
       "      <td>2017</td>\n",
       "      <td>Rajkot</td>\n",
       "      <td>2017-04-07</td>\n",
       "      <td>Gujarat Lions</td>\n",
       "      <td>Kolkata Knight Riders</td>\n",
       "      <td>Kolkata Knight Riders</td>\n",
       "      <td>field</td>\n",
       "      <td>normal</td>\n",
       "      <td>0</td>\n",
       "      <td>Kolkata Knight Riders</td>\n",
       "      <td>0</td>\n",
       "      <td>10</td>\n",
       "      <td>CA Lynn</td>\n",
       "      <td>Saurashtra Cricket Association Stadium</td>\n",
       "      <td>Nitin Menon</td>\n",
       "      <td>CK Nandan</td>\n",
       "      <td>NaN</td>\n",
       "    </tr>\n",
       "    <tr>\n",
       "      <th>3</th>\n",
       "      <td>4</td>\n",
       "      <td>2017</td>\n",
       "      <td>Indore</td>\n",
       "      <td>2017-04-08</td>\n",
       "      <td>Rising Pune Supergiant</td>\n",
       "      <td>Kings XI Punjab</td>\n",
       "      <td>Kings XI Punjab</td>\n",
       "      <td>field</td>\n",
       "      <td>normal</td>\n",
       "      <td>0</td>\n",
       "      <td>Kings XI Punjab</td>\n",
       "      <td>0</td>\n",
       "      <td>6</td>\n",
       "      <td>GJ Maxwell</td>\n",
       "      <td>Holkar Cricket Stadium</td>\n",
       "      <td>AK Chaudhary</td>\n",
       "      <td>C Shamshuddin</td>\n",
       "      <td>NaN</td>\n",
       "    </tr>\n",
       "    <tr>\n",
       "      <th>4</th>\n",
       "      <td>5</td>\n",
       "      <td>2017</td>\n",
       "      <td>Bangalore</td>\n",
       "      <td>2017-04-08</td>\n",
       "      <td>Royal Challengers Bangalore</td>\n",
       "      <td>Delhi Daredevils</td>\n",
       "      <td>Royal Challengers Bangalore</td>\n",
       "      <td>bat</td>\n",
       "      <td>normal</td>\n",
       "      <td>0</td>\n",
       "      <td>Royal Challengers Bangalore</td>\n",
       "      <td>15</td>\n",
       "      <td>0</td>\n",
       "      <td>KM Jadhav</td>\n",
       "      <td>M Chinnaswamy Stadium</td>\n",
       "      <td>NaN</td>\n",
       "      <td>NaN</td>\n",
       "      <td>NaN</td>\n",
       "    </tr>\n",
       "  </tbody>\n",
       "</table>\n",
       "</div>"
      ],
      "text/plain": [
       "   id  season       city        date                        team1  \\\n",
       "0   1    2017  Hyderabad  2017-04-05          Sunrisers Hyderabad   \n",
       "1   2    2017       Pune  2017-04-06               Mumbai Indians   \n",
       "2   3    2017     Rajkot  2017-04-07                Gujarat Lions   \n",
       "3   4    2017     Indore  2017-04-08       Rising Pune Supergiant   \n",
       "4   5    2017  Bangalore  2017-04-08  Royal Challengers Bangalore   \n",
       "\n",
       "                         team2                  toss_winner toss_decision  \\\n",
       "0  Royal Challengers Bangalore  Royal Challengers Bangalore         field   \n",
       "1       Rising Pune Supergiant       Rising Pune Supergiant         field   \n",
       "2        Kolkata Knight Riders        Kolkata Knight Riders         field   \n",
       "3              Kings XI Punjab              Kings XI Punjab         field   \n",
       "4             Delhi Daredevils  Royal Challengers Bangalore           bat   \n",
       "\n",
       "   result  dl_applied                       winner  win_by_runs  \\\n",
       "0  normal           0          Sunrisers Hyderabad           35   \n",
       "1  normal           0       Rising Pune Supergiant            0   \n",
       "2  normal           0        Kolkata Knight Riders            0   \n",
       "3  normal           0              Kings XI Punjab            0   \n",
       "4  normal           0  Royal Challengers Bangalore           15   \n",
       "\n",
       "   win_by_wickets player_of_match                                      venue  \\\n",
       "0               0    Yuvraj Singh  Rajiv Gandhi International Stadium, Uppal   \n",
       "1               7       SPD Smith    Maharashtra Cricket Association Stadium   \n",
       "2              10         CA Lynn     Saurashtra Cricket Association Stadium   \n",
       "3               6      GJ Maxwell                     Holkar Cricket Stadium   \n",
       "4               0       KM Jadhav                      M Chinnaswamy Stadium   \n",
       "\n",
       "          umpire1        umpire2 umpire3  \n",
       "0     AY Dandekar       NJ Llong     NaN  \n",
       "1  A Nand Kishore         S Ravi     NaN  \n",
       "2     Nitin Menon      CK Nandan     NaN  \n",
       "3    AK Chaudhary  C Shamshuddin     NaN  \n",
       "4             NaN            NaN     NaN  "
      ]
     },
     "execution_count": 7,
     "metadata": {},
     "output_type": "execute_result"
    }
   ],
   "source": [
    "matches.head()"
   ]
  },
  {
   "cell_type": "markdown",
   "id": "35d3b6eb",
   "metadata": {},
   "source": [
    "## Loading Dataset 2"
   ]
  },
  {
   "cell_type": "code",
   "execution_count": 8,
   "id": "bb00fb15",
   "metadata": {},
   "outputs": [],
   "source": [
    "deliveries= pd.read_csv(r\"C:\\Users\\RAJ KUMAR GUBBALA\\Downloads\\deliveries.csv\")"
   ]
  },
  {
   "cell_type": "code",
   "execution_count": 9,
   "id": "5864b66a",
   "metadata": {},
   "outputs": [
    {
     "data": {
      "text/html": [
       "<div>\n",
       "<style scoped>\n",
       "    .dataframe tbody tr th:only-of-type {\n",
       "        vertical-align: middle;\n",
       "    }\n",
       "\n",
       "    .dataframe tbody tr th {\n",
       "        vertical-align: top;\n",
       "    }\n",
       "\n",
       "    .dataframe thead th {\n",
       "        text-align: right;\n",
       "    }\n",
       "</style>\n",
       "<table border=\"1\" class=\"dataframe\">\n",
       "  <thead>\n",
       "    <tr style=\"text-align: right;\">\n",
       "      <th></th>\n",
       "      <th>match_id</th>\n",
       "      <th>inning</th>\n",
       "      <th>batting_team</th>\n",
       "      <th>bowling_team</th>\n",
       "      <th>over</th>\n",
       "      <th>ball</th>\n",
       "      <th>batsman</th>\n",
       "      <th>non_striker</th>\n",
       "      <th>bowler</th>\n",
       "      <th>is_super_over</th>\n",
       "      <th>...</th>\n",
       "      <th>bye_runs</th>\n",
       "      <th>legbye_runs</th>\n",
       "      <th>noball_runs</th>\n",
       "      <th>penalty_runs</th>\n",
       "      <th>batsman_runs</th>\n",
       "      <th>extra_runs</th>\n",
       "      <th>total_runs</th>\n",
       "      <th>player_dismissed</th>\n",
       "      <th>dismissal_kind</th>\n",
       "      <th>fielder</th>\n",
       "    </tr>\n",
       "  </thead>\n",
       "  <tbody>\n",
       "    <tr>\n",
       "      <th>0</th>\n",
       "      <td>1</td>\n",
       "      <td>1</td>\n",
       "      <td>Sunrisers Hyderabad</td>\n",
       "      <td>Royal Challengers Bangalore</td>\n",
       "      <td>1</td>\n",
       "      <td>1</td>\n",
       "      <td>DA Warner</td>\n",
       "      <td>S Dhawan</td>\n",
       "      <td>TS Mills</td>\n",
       "      <td>0</td>\n",
       "      <td>...</td>\n",
       "      <td>0</td>\n",
       "      <td>0</td>\n",
       "      <td>0</td>\n",
       "      <td>0</td>\n",
       "      <td>0</td>\n",
       "      <td>0</td>\n",
       "      <td>0</td>\n",
       "      <td>NaN</td>\n",
       "      <td>NaN</td>\n",
       "      <td>NaN</td>\n",
       "    </tr>\n",
       "    <tr>\n",
       "      <th>1</th>\n",
       "      <td>1</td>\n",
       "      <td>1</td>\n",
       "      <td>Sunrisers Hyderabad</td>\n",
       "      <td>Royal Challengers Bangalore</td>\n",
       "      <td>1</td>\n",
       "      <td>2</td>\n",
       "      <td>DA Warner</td>\n",
       "      <td>S Dhawan</td>\n",
       "      <td>TS Mills</td>\n",
       "      <td>0</td>\n",
       "      <td>...</td>\n",
       "      <td>0</td>\n",
       "      <td>0</td>\n",
       "      <td>0</td>\n",
       "      <td>0</td>\n",
       "      <td>0</td>\n",
       "      <td>0</td>\n",
       "      <td>0</td>\n",
       "      <td>NaN</td>\n",
       "      <td>NaN</td>\n",
       "      <td>NaN</td>\n",
       "    </tr>\n",
       "    <tr>\n",
       "      <th>2</th>\n",
       "      <td>1</td>\n",
       "      <td>1</td>\n",
       "      <td>Sunrisers Hyderabad</td>\n",
       "      <td>Royal Challengers Bangalore</td>\n",
       "      <td>1</td>\n",
       "      <td>3</td>\n",
       "      <td>DA Warner</td>\n",
       "      <td>S Dhawan</td>\n",
       "      <td>TS Mills</td>\n",
       "      <td>0</td>\n",
       "      <td>...</td>\n",
       "      <td>0</td>\n",
       "      <td>0</td>\n",
       "      <td>0</td>\n",
       "      <td>0</td>\n",
       "      <td>4</td>\n",
       "      <td>0</td>\n",
       "      <td>4</td>\n",
       "      <td>NaN</td>\n",
       "      <td>NaN</td>\n",
       "      <td>NaN</td>\n",
       "    </tr>\n",
       "    <tr>\n",
       "      <th>3</th>\n",
       "      <td>1</td>\n",
       "      <td>1</td>\n",
       "      <td>Sunrisers Hyderabad</td>\n",
       "      <td>Royal Challengers Bangalore</td>\n",
       "      <td>1</td>\n",
       "      <td>4</td>\n",
       "      <td>DA Warner</td>\n",
       "      <td>S Dhawan</td>\n",
       "      <td>TS Mills</td>\n",
       "      <td>0</td>\n",
       "      <td>...</td>\n",
       "      <td>0</td>\n",
       "      <td>0</td>\n",
       "      <td>0</td>\n",
       "      <td>0</td>\n",
       "      <td>0</td>\n",
       "      <td>0</td>\n",
       "      <td>0</td>\n",
       "      <td>NaN</td>\n",
       "      <td>NaN</td>\n",
       "      <td>NaN</td>\n",
       "    </tr>\n",
       "    <tr>\n",
       "      <th>4</th>\n",
       "      <td>1</td>\n",
       "      <td>1</td>\n",
       "      <td>Sunrisers Hyderabad</td>\n",
       "      <td>Royal Challengers Bangalore</td>\n",
       "      <td>1</td>\n",
       "      <td>5</td>\n",
       "      <td>DA Warner</td>\n",
       "      <td>S Dhawan</td>\n",
       "      <td>TS Mills</td>\n",
       "      <td>0</td>\n",
       "      <td>...</td>\n",
       "      <td>0</td>\n",
       "      <td>0</td>\n",
       "      <td>0</td>\n",
       "      <td>0</td>\n",
       "      <td>0</td>\n",
       "      <td>2</td>\n",
       "      <td>2</td>\n",
       "      <td>NaN</td>\n",
       "      <td>NaN</td>\n",
       "      <td>NaN</td>\n",
       "    </tr>\n",
       "  </tbody>\n",
       "</table>\n",
       "<p>5 rows × 21 columns</p>\n",
       "</div>"
      ],
      "text/plain": [
       "   match_id  inning         batting_team                 bowling_team  over  \\\n",
       "0         1       1  Sunrisers Hyderabad  Royal Challengers Bangalore     1   \n",
       "1         1       1  Sunrisers Hyderabad  Royal Challengers Bangalore     1   \n",
       "2         1       1  Sunrisers Hyderabad  Royal Challengers Bangalore     1   \n",
       "3         1       1  Sunrisers Hyderabad  Royal Challengers Bangalore     1   \n",
       "4         1       1  Sunrisers Hyderabad  Royal Challengers Bangalore     1   \n",
       "\n",
       "   ball    batsman non_striker    bowler  is_super_over  ...  bye_runs  \\\n",
       "0     1  DA Warner    S Dhawan  TS Mills              0  ...         0   \n",
       "1     2  DA Warner    S Dhawan  TS Mills              0  ...         0   \n",
       "2     3  DA Warner    S Dhawan  TS Mills              0  ...         0   \n",
       "3     4  DA Warner    S Dhawan  TS Mills              0  ...         0   \n",
       "4     5  DA Warner    S Dhawan  TS Mills              0  ...         0   \n",
       "\n",
       "   legbye_runs  noball_runs  penalty_runs  batsman_runs  extra_runs  \\\n",
       "0            0            0             0             0           0   \n",
       "1            0            0             0             0           0   \n",
       "2            0            0             0             4           0   \n",
       "3            0            0             0             0           0   \n",
       "4            0            0             0             0           2   \n",
       "\n",
       "   total_runs  player_dismissed dismissal_kind fielder  \n",
       "0           0               NaN            NaN     NaN  \n",
       "1           0               NaN            NaN     NaN  \n",
       "2           4               NaN            NaN     NaN  \n",
       "3           0               NaN            NaN     NaN  \n",
       "4           2               NaN            NaN     NaN  \n",
       "\n",
       "[5 rows x 21 columns]"
      ]
     },
     "execution_count": 9,
     "metadata": {},
     "output_type": "execute_result"
    }
   ],
   "source": [
    "deliveries.head()"
   ]
  },
  {
   "cell_type": "markdown",
   "id": "50b2ab19",
   "metadata": {},
   "source": [
    "## Checking the info() and describe() of the DataFrame."
   ]
  },
  {
   "cell_type": "code",
   "execution_count": 10,
   "id": "860536b3",
   "metadata": {},
   "outputs": [
    {
     "name": "stdout",
     "output_type": "stream",
     "text": [
      "<class 'pandas.core.frame.DataFrame'>\n",
      "RangeIndex: 756 entries, 0 to 755\n",
      "Data columns (total 18 columns):\n",
      " #   Column           Non-Null Count  Dtype \n",
      "---  ------           --------------  ----- \n",
      " 0   id               756 non-null    int64 \n",
      " 1   season           756 non-null    int64 \n",
      " 2   city             749 non-null    object\n",
      " 3   date             756 non-null    object\n",
      " 4   team1            756 non-null    object\n",
      " 5   team2            756 non-null    object\n",
      " 6   toss_winner      756 non-null    object\n",
      " 7   toss_decision    756 non-null    object\n",
      " 8   result           756 non-null    object\n",
      " 9   dl_applied       756 non-null    int64 \n",
      " 10  winner           752 non-null    object\n",
      " 11  win_by_runs      756 non-null    int64 \n",
      " 12  win_by_wickets   756 non-null    int64 \n",
      " 13  player_of_match  752 non-null    object\n",
      " 14  venue            756 non-null    object\n",
      " 15  umpire1          754 non-null    object\n",
      " 16  umpire2          754 non-null    object\n",
      " 17  umpire3          119 non-null    object\n",
      "dtypes: int64(5), object(13)\n",
      "memory usage: 106.4+ KB\n"
     ]
    },
    {
     "data": {
      "text/html": [
       "<div>\n",
       "<style scoped>\n",
       "    .dataframe tbody tr th:only-of-type {\n",
       "        vertical-align: middle;\n",
       "    }\n",
       "\n",
       "    .dataframe tbody tr th {\n",
       "        vertical-align: top;\n",
       "    }\n",
       "\n",
       "    .dataframe thead th {\n",
       "        text-align: right;\n",
       "    }\n",
       "</style>\n",
       "<table border=\"1\" class=\"dataframe\">\n",
       "  <thead>\n",
       "    <tr style=\"text-align: right;\">\n",
       "      <th></th>\n",
       "      <th>id</th>\n",
       "      <th>season</th>\n",
       "      <th>dl_applied</th>\n",
       "      <th>win_by_runs</th>\n",
       "      <th>win_by_wickets</th>\n",
       "    </tr>\n",
       "  </thead>\n",
       "  <tbody>\n",
       "    <tr>\n",
       "      <th>count</th>\n",
       "      <td>756.000000</td>\n",
       "      <td>756.000000</td>\n",
       "      <td>756.000000</td>\n",
       "      <td>756.000000</td>\n",
       "      <td>756.000000</td>\n",
       "    </tr>\n",
       "    <tr>\n",
       "      <th>mean</th>\n",
       "      <td>1792.178571</td>\n",
       "      <td>2013.444444</td>\n",
       "      <td>0.025132</td>\n",
       "      <td>13.283069</td>\n",
       "      <td>3.350529</td>\n",
       "    </tr>\n",
       "    <tr>\n",
       "      <th>std</th>\n",
       "      <td>3464.478148</td>\n",
       "      <td>3.366895</td>\n",
       "      <td>0.156630</td>\n",
       "      <td>23.471144</td>\n",
       "      <td>3.387963</td>\n",
       "    </tr>\n",
       "    <tr>\n",
       "      <th>min</th>\n",
       "      <td>1.000000</td>\n",
       "      <td>2008.000000</td>\n",
       "      <td>0.000000</td>\n",
       "      <td>0.000000</td>\n",
       "      <td>0.000000</td>\n",
       "    </tr>\n",
       "    <tr>\n",
       "      <th>25%</th>\n",
       "      <td>189.750000</td>\n",
       "      <td>2011.000000</td>\n",
       "      <td>0.000000</td>\n",
       "      <td>0.000000</td>\n",
       "      <td>0.000000</td>\n",
       "    </tr>\n",
       "    <tr>\n",
       "      <th>50%</th>\n",
       "      <td>378.500000</td>\n",
       "      <td>2013.000000</td>\n",
       "      <td>0.000000</td>\n",
       "      <td>0.000000</td>\n",
       "      <td>4.000000</td>\n",
       "    </tr>\n",
       "    <tr>\n",
       "      <th>75%</th>\n",
       "      <td>567.250000</td>\n",
       "      <td>2016.000000</td>\n",
       "      <td>0.000000</td>\n",
       "      <td>19.000000</td>\n",
       "      <td>6.000000</td>\n",
       "    </tr>\n",
       "    <tr>\n",
       "      <th>max</th>\n",
       "      <td>11415.000000</td>\n",
       "      <td>2019.000000</td>\n",
       "      <td>1.000000</td>\n",
       "      <td>146.000000</td>\n",
       "      <td>10.000000</td>\n",
       "    </tr>\n",
       "  </tbody>\n",
       "</table>\n",
       "</div>"
      ],
      "text/plain": [
       "                 id       season  dl_applied  win_by_runs  win_by_wickets\n",
       "count    756.000000   756.000000  756.000000   756.000000      756.000000\n",
       "mean    1792.178571  2013.444444    0.025132    13.283069        3.350529\n",
       "std     3464.478148     3.366895    0.156630    23.471144        3.387963\n",
       "min        1.000000  2008.000000    0.000000     0.000000        0.000000\n",
       "25%      189.750000  2011.000000    0.000000     0.000000        0.000000\n",
       "50%      378.500000  2013.000000    0.000000     0.000000        4.000000\n",
       "75%      567.250000  2016.000000    0.000000    19.000000        6.000000\n",
       "max    11415.000000  2019.000000    1.000000   146.000000       10.000000"
      ]
     },
     "execution_count": 10,
     "metadata": {},
     "output_type": "execute_result"
    }
   ],
   "source": [
    "matches.info()\n",
    "matches.describe()"
   ]
  },
  {
   "cell_type": "code",
   "execution_count": 11,
   "id": "3492722d",
   "metadata": {},
   "outputs": [
    {
     "name": "stdout",
     "output_type": "stream",
     "text": [
      "<class 'pandas.core.frame.DataFrame'>\n",
      "RangeIndex: 179078 entries, 0 to 179077\n",
      "Data columns (total 21 columns):\n",
      " #   Column            Non-Null Count   Dtype \n",
      "---  ------            --------------   ----- \n",
      " 0   match_id          179078 non-null  int64 \n",
      " 1   inning            179078 non-null  int64 \n",
      " 2   batting_team      179078 non-null  object\n",
      " 3   bowling_team      179078 non-null  object\n",
      " 4   over              179078 non-null  int64 \n",
      " 5   ball              179078 non-null  int64 \n",
      " 6   batsman           179078 non-null  object\n",
      " 7   non_striker       179078 non-null  object\n",
      " 8   bowler            179078 non-null  object\n",
      " 9   is_super_over     179078 non-null  int64 \n",
      " 10  wide_runs         179078 non-null  int64 \n",
      " 11  bye_runs          179078 non-null  int64 \n",
      " 12  legbye_runs       179078 non-null  int64 \n",
      " 13  noball_runs       179078 non-null  int64 \n",
      " 14  penalty_runs      179078 non-null  int64 \n",
      " 15  batsman_runs      179078 non-null  int64 \n",
      " 16  extra_runs        179078 non-null  int64 \n",
      " 17  total_runs        179078 non-null  int64 \n",
      " 18  player_dismissed  8834 non-null    object\n",
      " 19  dismissal_kind    8834 non-null    object\n",
      " 20  fielder           6448 non-null    object\n",
      "dtypes: int64(13), object(8)\n",
      "memory usage: 28.7+ MB\n"
     ]
    },
    {
     "data": {
      "text/html": [
       "<div>\n",
       "<style scoped>\n",
       "    .dataframe tbody tr th:only-of-type {\n",
       "        vertical-align: middle;\n",
       "    }\n",
       "\n",
       "    .dataframe tbody tr th {\n",
       "        vertical-align: top;\n",
       "    }\n",
       "\n",
       "    .dataframe thead th {\n",
       "        text-align: right;\n",
       "    }\n",
       "</style>\n",
       "<table border=\"1\" class=\"dataframe\">\n",
       "  <thead>\n",
       "    <tr style=\"text-align: right;\">\n",
       "      <th></th>\n",
       "      <th>match_id</th>\n",
       "      <th>inning</th>\n",
       "      <th>over</th>\n",
       "      <th>ball</th>\n",
       "      <th>is_super_over</th>\n",
       "      <th>wide_runs</th>\n",
       "      <th>bye_runs</th>\n",
       "      <th>legbye_runs</th>\n",
       "      <th>noball_runs</th>\n",
       "      <th>penalty_runs</th>\n",
       "      <th>batsman_runs</th>\n",
       "      <th>extra_runs</th>\n",
       "      <th>total_runs</th>\n",
       "    </tr>\n",
       "  </thead>\n",
       "  <tbody>\n",
       "    <tr>\n",
       "      <th>count</th>\n",
       "      <td>179078.000000</td>\n",
       "      <td>179078.000000</td>\n",
       "      <td>179078.000000</td>\n",
       "      <td>179078.000000</td>\n",
       "      <td>179078.000000</td>\n",
       "      <td>179078.000000</td>\n",
       "      <td>179078.000000</td>\n",
       "      <td>179078.000000</td>\n",
       "      <td>179078.000000</td>\n",
       "      <td>179078.000000</td>\n",
       "      <td>179078.000000</td>\n",
       "      <td>179078.000000</td>\n",
       "      <td>179078.000000</td>\n",
       "    </tr>\n",
       "    <tr>\n",
       "      <th>mean</th>\n",
       "      <td>1802.252957</td>\n",
       "      <td>1.482952</td>\n",
       "      <td>10.162488</td>\n",
       "      <td>3.615587</td>\n",
       "      <td>0.000452</td>\n",
       "      <td>0.036721</td>\n",
       "      <td>0.004936</td>\n",
       "      <td>0.021136</td>\n",
       "      <td>0.004183</td>\n",
       "      <td>0.000056</td>\n",
       "      <td>1.246864</td>\n",
       "      <td>0.067032</td>\n",
       "      <td>1.313897</td>\n",
       "    </tr>\n",
       "    <tr>\n",
       "      <th>std</th>\n",
       "      <td>3472.322805</td>\n",
       "      <td>0.502074</td>\n",
       "      <td>5.677684</td>\n",
       "      <td>1.806966</td>\n",
       "      <td>0.021263</td>\n",
       "      <td>0.251161</td>\n",
       "      <td>0.116480</td>\n",
       "      <td>0.194908</td>\n",
       "      <td>0.070492</td>\n",
       "      <td>0.016709</td>\n",
       "      <td>1.608270</td>\n",
       "      <td>0.342553</td>\n",
       "      <td>1.605422</td>\n",
       "    </tr>\n",
       "    <tr>\n",
       "      <th>min</th>\n",
       "      <td>1.000000</td>\n",
       "      <td>1.000000</td>\n",
       "      <td>1.000000</td>\n",
       "      <td>1.000000</td>\n",
       "      <td>0.000000</td>\n",
       "      <td>0.000000</td>\n",
       "      <td>0.000000</td>\n",
       "      <td>0.000000</td>\n",
       "      <td>0.000000</td>\n",
       "      <td>0.000000</td>\n",
       "      <td>0.000000</td>\n",
       "      <td>0.000000</td>\n",
       "      <td>0.000000</td>\n",
       "    </tr>\n",
       "    <tr>\n",
       "      <th>25%</th>\n",
       "      <td>190.000000</td>\n",
       "      <td>1.000000</td>\n",
       "      <td>5.000000</td>\n",
       "      <td>2.000000</td>\n",
       "      <td>0.000000</td>\n",
       "      <td>0.000000</td>\n",
       "      <td>0.000000</td>\n",
       "      <td>0.000000</td>\n",
       "      <td>0.000000</td>\n",
       "      <td>0.000000</td>\n",
       "      <td>0.000000</td>\n",
       "      <td>0.000000</td>\n",
       "      <td>0.000000</td>\n",
       "    </tr>\n",
       "    <tr>\n",
       "      <th>50%</th>\n",
       "      <td>379.000000</td>\n",
       "      <td>1.000000</td>\n",
       "      <td>10.000000</td>\n",
       "      <td>4.000000</td>\n",
       "      <td>0.000000</td>\n",
       "      <td>0.000000</td>\n",
       "      <td>0.000000</td>\n",
       "      <td>0.000000</td>\n",
       "      <td>0.000000</td>\n",
       "      <td>0.000000</td>\n",
       "      <td>1.000000</td>\n",
       "      <td>0.000000</td>\n",
       "      <td>1.000000</td>\n",
       "    </tr>\n",
       "    <tr>\n",
       "      <th>75%</th>\n",
       "      <td>567.000000</td>\n",
       "      <td>2.000000</td>\n",
       "      <td>15.000000</td>\n",
       "      <td>5.000000</td>\n",
       "      <td>0.000000</td>\n",
       "      <td>0.000000</td>\n",
       "      <td>0.000000</td>\n",
       "      <td>0.000000</td>\n",
       "      <td>0.000000</td>\n",
       "      <td>0.000000</td>\n",
       "      <td>1.000000</td>\n",
       "      <td>0.000000</td>\n",
       "      <td>1.000000</td>\n",
       "    </tr>\n",
       "    <tr>\n",
       "      <th>max</th>\n",
       "      <td>11415.000000</td>\n",
       "      <td>5.000000</td>\n",
       "      <td>20.000000</td>\n",
       "      <td>9.000000</td>\n",
       "      <td>1.000000</td>\n",
       "      <td>5.000000</td>\n",
       "      <td>4.000000</td>\n",
       "      <td>5.000000</td>\n",
       "      <td>5.000000</td>\n",
       "      <td>5.000000</td>\n",
       "      <td>7.000000</td>\n",
       "      <td>7.000000</td>\n",
       "      <td>10.000000</td>\n",
       "    </tr>\n",
       "  </tbody>\n",
       "</table>\n",
       "</div>"
      ],
      "text/plain": [
       "            match_id         inning           over           ball  \\\n",
       "count  179078.000000  179078.000000  179078.000000  179078.000000   \n",
       "mean     1802.252957       1.482952      10.162488       3.615587   \n",
       "std      3472.322805       0.502074       5.677684       1.806966   \n",
       "min         1.000000       1.000000       1.000000       1.000000   \n",
       "25%       190.000000       1.000000       5.000000       2.000000   \n",
       "50%       379.000000       1.000000      10.000000       4.000000   \n",
       "75%       567.000000       2.000000      15.000000       5.000000   \n",
       "max     11415.000000       5.000000      20.000000       9.000000   \n",
       "\n",
       "       is_super_over      wide_runs       bye_runs    legbye_runs  \\\n",
       "count  179078.000000  179078.000000  179078.000000  179078.000000   \n",
       "mean        0.000452       0.036721       0.004936       0.021136   \n",
       "std         0.021263       0.251161       0.116480       0.194908   \n",
       "min         0.000000       0.000000       0.000000       0.000000   \n",
       "25%         0.000000       0.000000       0.000000       0.000000   \n",
       "50%         0.000000       0.000000       0.000000       0.000000   \n",
       "75%         0.000000       0.000000       0.000000       0.000000   \n",
       "max         1.000000       5.000000       4.000000       5.000000   \n",
       "\n",
       "         noball_runs   penalty_runs   batsman_runs     extra_runs  \\\n",
       "count  179078.000000  179078.000000  179078.000000  179078.000000   \n",
       "mean        0.004183       0.000056       1.246864       0.067032   \n",
       "std         0.070492       0.016709       1.608270       0.342553   \n",
       "min         0.000000       0.000000       0.000000       0.000000   \n",
       "25%         0.000000       0.000000       0.000000       0.000000   \n",
       "50%         0.000000       0.000000       1.000000       0.000000   \n",
       "75%         0.000000       0.000000       1.000000       0.000000   \n",
       "max         5.000000       5.000000       7.000000       7.000000   \n",
       "\n",
       "          total_runs  \n",
       "count  179078.000000  \n",
       "mean        1.313897  \n",
       "std         1.605422  \n",
       "min         0.000000  \n",
       "25%         0.000000  \n",
       "50%         1.000000  \n",
       "75%         1.000000  \n",
       "max        10.000000  "
      ]
     },
     "execution_count": 11,
     "metadata": {},
     "output_type": "execute_result"
    }
   ],
   "source": [
    "deliveries.info()\n",
    "deliveries.describe()"
   ]
  },
  {
   "cell_type": "code",
   "execution_count": 19,
   "id": "ce244dc8",
   "metadata": {},
   "outputs": [],
   "source": [
    "matches.rename(columns={'id':'match_id'}, inplace=True)"
   ]
  },
  {
   "cell_type": "code",
   "execution_count": 21,
   "id": "6683ea5e",
   "metadata": {},
   "outputs": [
    {
     "name": "stdout",
     "output_type": "stream",
     "text": [
      "<class 'pandas.core.frame.DataFrame'>\n",
      "RangeIndex: 756 entries, 0 to 755\n",
      "Data columns (total 18 columns):\n",
      " #   Column           Non-Null Count  Dtype \n",
      "---  ------           --------------  ----- \n",
      " 0   match_id         756 non-null    int64 \n",
      " 1   season           756 non-null    int64 \n",
      " 2   city             749 non-null    object\n",
      " 3   date             756 non-null    object\n",
      " 4   team1            756 non-null    object\n",
      " 5   team2            756 non-null    object\n",
      " 6   toss_winner      756 non-null    object\n",
      " 7   toss_decision    756 non-null    object\n",
      " 8   result           756 non-null    object\n",
      " 9   dl_applied       756 non-null    int64 \n",
      " 10  winner           752 non-null    object\n",
      " 11  win_by_runs      756 non-null    int64 \n",
      " 12  win_by_wickets   756 non-null    int64 \n",
      " 13  player_of_match  752 non-null    object\n",
      " 14  venue            756 non-null    object\n",
      " 15  umpire1          754 non-null    object\n",
      " 16  umpire2          754 non-null    object\n",
      " 17  umpire3          119 non-null    object\n",
      "dtypes: int64(5), object(13)\n",
      "memory usage: 106.4+ KB\n",
      "<class 'pandas.core.frame.DataFrame'>\n",
      "RangeIndex: 179078 entries, 0 to 179077\n",
      "Data columns (total 21 columns):\n",
      " #   Column            Non-Null Count   Dtype \n",
      "---  ------            --------------   ----- \n",
      " 0   match_id          179078 non-null  int64 \n",
      " 1   inning            179078 non-null  int64 \n",
      " 2   batting_team      179078 non-null  object\n",
      " 3   bowling_team      179078 non-null  object\n",
      " 4   over              179078 non-null  int64 \n",
      " 5   ball              179078 non-null  int64 \n",
      " 6   batsman           179078 non-null  object\n",
      " 7   non_striker       179078 non-null  object\n",
      " 8   bowler            179078 non-null  object\n",
      " 9   is_super_over     179078 non-null  int64 \n",
      " 10  wide_runs         179078 non-null  int64 \n",
      " 11  bye_runs          179078 non-null  int64 \n",
      " 12  legbye_runs       179078 non-null  int64 \n",
      " 13  noball_runs       179078 non-null  int64 \n",
      " 14  penalty_runs      179078 non-null  int64 \n",
      " 15  batsman_runs      179078 non-null  int64 \n",
      " 16  extra_runs        179078 non-null  int64 \n",
      " 17  total_runs        179078 non-null  int64 \n",
      " 18  player_dismissed  8834 non-null    object\n",
      " 19  dismissal_kind    8834 non-null    object\n",
      " 20  fielder           6448 non-null    object\n",
      "dtypes: int64(13), object(8)\n",
      "memory usage: 28.7+ MB\n"
     ]
    }
   ],
   "source": [
    "matches.info()\n",
    "deliveries.info()"
   ]
  },
  {
   "cell_type": "code",
   "execution_count": 22,
   "id": "c7a5400a",
   "metadata": {},
   "outputs": [
    {
     "data": {
      "text/plain": [
       "(756, 18)"
      ]
     },
     "metadata": {},
     "output_type": "display_data"
    },
    {
     "data": {
      "text/plain": [
       "(179078, 21)"
      ]
     },
     "metadata": {},
     "output_type": "display_data"
    }
   ],
   "source": [
    "display(matches.shape,deliveries.shape)"
   ]
  },
  {
   "cell_type": "markdown",
   "id": "49c8a59b",
   "metadata": {},
   "source": [
    "## Merge The Datasets"
   ]
  },
  {
   "cell_type": "code",
   "execution_count": 24,
   "id": "a609174b",
   "metadata": {},
   "outputs": [],
   "source": [
    "IPL=matches.merge(deliveries, how='outer')"
   ]
  },
  {
   "cell_type": "code",
   "execution_count": 25,
   "id": "6098be12",
   "metadata": {},
   "outputs": [
    {
     "data": {
      "text/html": [
       "<div>\n",
       "<style scoped>\n",
       "    .dataframe tbody tr th:only-of-type {\n",
       "        vertical-align: middle;\n",
       "    }\n",
       "\n",
       "    .dataframe tbody tr th {\n",
       "        vertical-align: top;\n",
       "    }\n",
       "\n",
       "    .dataframe thead th {\n",
       "        text-align: right;\n",
       "    }\n",
       "</style>\n",
       "<table border=\"1\" class=\"dataframe\">\n",
       "  <thead>\n",
       "    <tr style=\"text-align: right;\">\n",
       "      <th></th>\n",
       "      <th>match_id</th>\n",
       "      <th>season</th>\n",
       "      <th>city</th>\n",
       "      <th>date</th>\n",
       "      <th>team1</th>\n",
       "      <th>team2</th>\n",
       "      <th>toss_winner</th>\n",
       "      <th>toss_decision</th>\n",
       "      <th>result</th>\n",
       "      <th>dl_applied</th>\n",
       "      <th>...</th>\n",
       "      <th>bye_runs</th>\n",
       "      <th>legbye_runs</th>\n",
       "      <th>noball_runs</th>\n",
       "      <th>penalty_runs</th>\n",
       "      <th>batsman_runs</th>\n",
       "      <th>extra_runs</th>\n",
       "      <th>total_runs</th>\n",
       "      <th>player_dismissed</th>\n",
       "      <th>dismissal_kind</th>\n",
       "      <th>fielder</th>\n",
       "    </tr>\n",
       "  </thead>\n",
       "  <tbody>\n",
       "    <tr>\n",
       "      <th>0</th>\n",
       "      <td>1</td>\n",
       "      <td>2017</td>\n",
       "      <td>Hyderabad</td>\n",
       "      <td>2017-04-05</td>\n",
       "      <td>Sunrisers Hyderabad</td>\n",
       "      <td>Royal Challengers Bangalore</td>\n",
       "      <td>Royal Challengers Bangalore</td>\n",
       "      <td>field</td>\n",
       "      <td>normal</td>\n",
       "      <td>0</td>\n",
       "      <td>...</td>\n",
       "      <td>0</td>\n",
       "      <td>0</td>\n",
       "      <td>0</td>\n",
       "      <td>0</td>\n",
       "      <td>0</td>\n",
       "      <td>0</td>\n",
       "      <td>0</td>\n",
       "      <td>NaN</td>\n",
       "      <td>NaN</td>\n",
       "      <td>NaN</td>\n",
       "    </tr>\n",
       "    <tr>\n",
       "      <th>1</th>\n",
       "      <td>1</td>\n",
       "      <td>2017</td>\n",
       "      <td>Hyderabad</td>\n",
       "      <td>2017-04-05</td>\n",
       "      <td>Sunrisers Hyderabad</td>\n",
       "      <td>Royal Challengers Bangalore</td>\n",
       "      <td>Royal Challengers Bangalore</td>\n",
       "      <td>field</td>\n",
       "      <td>normal</td>\n",
       "      <td>0</td>\n",
       "      <td>...</td>\n",
       "      <td>0</td>\n",
       "      <td>0</td>\n",
       "      <td>0</td>\n",
       "      <td>0</td>\n",
       "      <td>0</td>\n",
       "      <td>0</td>\n",
       "      <td>0</td>\n",
       "      <td>NaN</td>\n",
       "      <td>NaN</td>\n",
       "      <td>NaN</td>\n",
       "    </tr>\n",
       "    <tr>\n",
       "      <th>2</th>\n",
       "      <td>1</td>\n",
       "      <td>2017</td>\n",
       "      <td>Hyderabad</td>\n",
       "      <td>2017-04-05</td>\n",
       "      <td>Sunrisers Hyderabad</td>\n",
       "      <td>Royal Challengers Bangalore</td>\n",
       "      <td>Royal Challengers Bangalore</td>\n",
       "      <td>field</td>\n",
       "      <td>normal</td>\n",
       "      <td>0</td>\n",
       "      <td>...</td>\n",
       "      <td>0</td>\n",
       "      <td>0</td>\n",
       "      <td>0</td>\n",
       "      <td>0</td>\n",
       "      <td>4</td>\n",
       "      <td>0</td>\n",
       "      <td>4</td>\n",
       "      <td>NaN</td>\n",
       "      <td>NaN</td>\n",
       "      <td>NaN</td>\n",
       "    </tr>\n",
       "    <tr>\n",
       "      <th>3</th>\n",
       "      <td>1</td>\n",
       "      <td>2017</td>\n",
       "      <td>Hyderabad</td>\n",
       "      <td>2017-04-05</td>\n",
       "      <td>Sunrisers Hyderabad</td>\n",
       "      <td>Royal Challengers Bangalore</td>\n",
       "      <td>Royal Challengers Bangalore</td>\n",
       "      <td>field</td>\n",
       "      <td>normal</td>\n",
       "      <td>0</td>\n",
       "      <td>...</td>\n",
       "      <td>0</td>\n",
       "      <td>0</td>\n",
       "      <td>0</td>\n",
       "      <td>0</td>\n",
       "      <td>0</td>\n",
       "      <td>0</td>\n",
       "      <td>0</td>\n",
       "      <td>NaN</td>\n",
       "      <td>NaN</td>\n",
       "      <td>NaN</td>\n",
       "    </tr>\n",
       "    <tr>\n",
       "      <th>4</th>\n",
       "      <td>1</td>\n",
       "      <td>2017</td>\n",
       "      <td>Hyderabad</td>\n",
       "      <td>2017-04-05</td>\n",
       "      <td>Sunrisers Hyderabad</td>\n",
       "      <td>Royal Challengers Bangalore</td>\n",
       "      <td>Royal Challengers Bangalore</td>\n",
       "      <td>field</td>\n",
       "      <td>normal</td>\n",
       "      <td>0</td>\n",
       "      <td>...</td>\n",
       "      <td>0</td>\n",
       "      <td>0</td>\n",
       "      <td>0</td>\n",
       "      <td>0</td>\n",
       "      <td>0</td>\n",
       "      <td>2</td>\n",
       "      <td>2</td>\n",
       "      <td>NaN</td>\n",
       "      <td>NaN</td>\n",
       "      <td>NaN</td>\n",
       "    </tr>\n",
       "    <tr>\n",
       "      <th>...</th>\n",
       "      <td>...</td>\n",
       "      <td>...</td>\n",
       "      <td>...</td>\n",
       "      <td>...</td>\n",
       "      <td>...</td>\n",
       "      <td>...</td>\n",
       "      <td>...</td>\n",
       "      <td>...</td>\n",
       "      <td>...</td>\n",
       "      <td>...</td>\n",
       "      <td>...</td>\n",
       "      <td>...</td>\n",
       "      <td>...</td>\n",
       "      <td>...</td>\n",
       "      <td>...</td>\n",
       "      <td>...</td>\n",
       "      <td>...</td>\n",
       "      <td>...</td>\n",
       "      <td>...</td>\n",
       "      <td>...</td>\n",
       "      <td>...</td>\n",
       "    </tr>\n",
       "    <tr>\n",
       "      <th>179073</th>\n",
       "      <td>11415</td>\n",
       "      <td>2019</td>\n",
       "      <td>Hyderabad</td>\n",
       "      <td>12/05/19</td>\n",
       "      <td>Mumbai Indians</td>\n",
       "      <td>Chennai Super Kings</td>\n",
       "      <td>Mumbai Indians</td>\n",
       "      <td>bat</td>\n",
       "      <td>normal</td>\n",
       "      <td>0</td>\n",
       "      <td>...</td>\n",
       "      <td>0</td>\n",
       "      <td>0</td>\n",
       "      <td>0</td>\n",
       "      <td>0</td>\n",
       "      <td>1</td>\n",
       "      <td>0</td>\n",
       "      <td>1</td>\n",
       "      <td>NaN</td>\n",
       "      <td>NaN</td>\n",
       "      <td>NaN</td>\n",
       "    </tr>\n",
       "    <tr>\n",
       "      <th>179074</th>\n",
       "      <td>11415</td>\n",
       "      <td>2019</td>\n",
       "      <td>Hyderabad</td>\n",
       "      <td>12/05/19</td>\n",
       "      <td>Mumbai Indians</td>\n",
       "      <td>Chennai Super Kings</td>\n",
       "      <td>Mumbai Indians</td>\n",
       "      <td>bat</td>\n",
       "      <td>normal</td>\n",
       "      <td>0</td>\n",
       "      <td>...</td>\n",
       "      <td>0</td>\n",
       "      <td>0</td>\n",
       "      <td>0</td>\n",
       "      <td>0</td>\n",
       "      <td>2</td>\n",
       "      <td>0</td>\n",
       "      <td>2</td>\n",
       "      <td>NaN</td>\n",
       "      <td>NaN</td>\n",
       "      <td>NaN</td>\n",
       "    </tr>\n",
       "    <tr>\n",
       "      <th>179075</th>\n",
       "      <td>11415</td>\n",
       "      <td>2019</td>\n",
       "      <td>Hyderabad</td>\n",
       "      <td>12/05/19</td>\n",
       "      <td>Mumbai Indians</td>\n",
       "      <td>Chennai Super Kings</td>\n",
       "      <td>Mumbai Indians</td>\n",
       "      <td>bat</td>\n",
       "      <td>normal</td>\n",
       "      <td>0</td>\n",
       "      <td>...</td>\n",
       "      <td>0</td>\n",
       "      <td>0</td>\n",
       "      <td>0</td>\n",
       "      <td>0</td>\n",
       "      <td>1</td>\n",
       "      <td>0</td>\n",
       "      <td>1</td>\n",
       "      <td>SR Watson</td>\n",
       "      <td>run out</td>\n",
       "      <td>KH Pandya</td>\n",
       "    </tr>\n",
       "    <tr>\n",
       "      <th>179076</th>\n",
       "      <td>11415</td>\n",
       "      <td>2019</td>\n",
       "      <td>Hyderabad</td>\n",
       "      <td>12/05/19</td>\n",
       "      <td>Mumbai Indians</td>\n",
       "      <td>Chennai Super Kings</td>\n",
       "      <td>Mumbai Indians</td>\n",
       "      <td>bat</td>\n",
       "      <td>normal</td>\n",
       "      <td>0</td>\n",
       "      <td>...</td>\n",
       "      <td>0</td>\n",
       "      <td>0</td>\n",
       "      <td>0</td>\n",
       "      <td>0</td>\n",
       "      <td>2</td>\n",
       "      <td>0</td>\n",
       "      <td>2</td>\n",
       "      <td>NaN</td>\n",
       "      <td>NaN</td>\n",
       "      <td>NaN</td>\n",
       "    </tr>\n",
       "    <tr>\n",
       "      <th>179077</th>\n",
       "      <td>11415</td>\n",
       "      <td>2019</td>\n",
       "      <td>Hyderabad</td>\n",
       "      <td>12/05/19</td>\n",
       "      <td>Mumbai Indians</td>\n",
       "      <td>Chennai Super Kings</td>\n",
       "      <td>Mumbai Indians</td>\n",
       "      <td>bat</td>\n",
       "      <td>normal</td>\n",
       "      <td>0</td>\n",
       "      <td>...</td>\n",
       "      <td>0</td>\n",
       "      <td>0</td>\n",
       "      <td>0</td>\n",
       "      <td>0</td>\n",
       "      <td>0</td>\n",
       "      <td>0</td>\n",
       "      <td>0</td>\n",
       "      <td>SN Thakur</td>\n",
       "      <td>lbw</td>\n",
       "      <td>NaN</td>\n",
       "    </tr>\n",
       "  </tbody>\n",
       "</table>\n",
       "<p>179078 rows × 38 columns</p>\n",
       "</div>"
      ],
      "text/plain": [
       "        match_id  season       city        date                team1  \\\n",
       "0              1    2017  Hyderabad  2017-04-05  Sunrisers Hyderabad   \n",
       "1              1    2017  Hyderabad  2017-04-05  Sunrisers Hyderabad   \n",
       "2              1    2017  Hyderabad  2017-04-05  Sunrisers Hyderabad   \n",
       "3              1    2017  Hyderabad  2017-04-05  Sunrisers Hyderabad   \n",
       "4              1    2017  Hyderabad  2017-04-05  Sunrisers Hyderabad   \n",
       "...          ...     ...        ...         ...                  ...   \n",
       "179073     11415    2019  Hyderabad    12/05/19       Mumbai Indians   \n",
       "179074     11415    2019  Hyderabad    12/05/19       Mumbai Indians   \n",
       "179075     11415    2019  Hyderabad    12/05/19       Mumbai Indians   \n",
       "179076     11415    2019  Hyderabad    12/05/19       Mumbai Indians   \n",
       "179077     11415    2019  Hyderabad    12/05/19       Mumbai Indians   \n",
       "\n",
       "                              team2                  toss_winner  \\\n",
       "0       Royal Challengers Bangalore  Royal Challengers Bangalore   \n",
       "1       Royal Challengers Bangalore  Royal Challengers Bangalore   \n",
       "2       Royal Challengers Bangalore  Royal Challengers Bangalore   \n",
       "3       Royal Challengers Bangalore  Royal Challengers Bangalore   \n",
       "4       Royal Challengers Bangalore  Royal Challengers Bangalore   \n",
       "...                             ...                          ...   \n",
       "179073          Chennai Super Kings               Mumbai Indians   \n",
       "179074          Chennai Super Kings               Mumbai Indians   \n",
       "179075          Chennai Super Kings               Mumbai Indians   \n",
       "179076          Chennai Super Kings               Mumbai Indians   \n",
       "179077          Chennai Super Kings               Mumbai Indians   \n",
       "\n",
       "       toss_decision  result  dl_applied  ... bye_runs  legbye_runs  \\\n",
       "0              field  normal           0  ...        0            0   \n",
       "1              field  normal           0  ...        0            0   \n",
       "2              field  normal           0  ...        0            0   \n",
       "3              field  normal           0  ...        0            0   \n",
       "4              field  normal           0  ...        0            0   \n",
       "...              ...     ...         ...  ...      ...          ...   \n",
       "179073           bat  normal           0  ...        0            0   \n",
       "179074           bat  normal           0  ...        0            0   \n",
       "179075           bat  normal           0  ...        0            0   \n",
       "179076           bat  normal           0  ...        0            0   \n",
       "179077           bat  normal           0  ...        0            0   \n",
       "\n",
       "        noball_runs penalty_runs batsman_runs extra_runs total_runs  \\\n",
       "0                 0            0            0          0          0   \n",
       "1                 0            0            0          0          0   \n",
       "2                 0            0            4          0          4   \n",
       "3                 0            0            0          0          0   \n",
       "4                 0            0            0          2          2   \n",
       "...             ...          ...          ...        ...        ...   \n",
       "179073            0            0            1          0          1   \n",
       "179074            0            0            2          0          2   \n",
       "179075            0            0            1          0          1   \n",
       "179076            0            0            2          0          2   \n",
       "179077            0            0            0          0          0   \n",
       "\n",
       "       player_dismissed  dismissal_kind    fielder  \n",
       "0                   NaN             NaN        NaN  \n",
       "1                   NaN             NaN        NaN  \n",
       "2                   NaN             NaN        NaN  \n",
       "3                   NaN             NaN        NaN  \n",
       "4                   NaN             NaN        NaN  \n",
       "...                 ...             ...        ...  \n",
       "179073              NaN             NaN        NaN  \n",
       "179074              NaN             NaN        NaN  \n",
       "179075        SR Watson         run out  KH Pandya  \n",
       "179076              NaN             NaN        NaN  \n",
       "179077        SN Thakur             lbw        NaN  \n",
       "\n",
       "[179078 rows x 38 columns]"
      ]
     },
     "execution_count": 25,
     "metadata": {},
     "output_type": "execute_result"
    }
   ],
   "source": [
    "IPL"
   ]
  },
  {
   "cell_type": "code",
   "execution_count": 26,
   "id": "76fd4b78",
   "metadata": {},
   "outputs": [
    {
     "data": {
      "text/plain": [
       "(179078, 38)"
      ]
     },
     "execution_count": 26,
     "metadata": {},
     "output_type": "execute_result"
    }
   ],
   "source": [
    "IPL.shape"
   ]
  },
  {
   "cell_type": "code",
   "execution_count": 27,
   "id": "5b845e38",
   "metadata": {},
   "outputs": [
    {
     "data": {
      "text/plain": [
       "Index(['match_id', 'season', 'city', 'date', 'team1', 'team2', 'toss_winner',\n",
       "       'toss_decision', 'result', 'dl_applied', 'winner', 'win_by_runs',\n",
       "       'win_by_wickets', 'player_of_match', 'venue', 'umpire1', 'umpire2',\n",
       "       'umpire3', 'inning', 'batting_team', 'bowling_team', 'over', 'ball',\n",
       "       'batsman', 'non_striker', 'bowler', 'is_super_over', 'wide_runs',\n",
       "       'bye_runs', 'legbye_runs', 'noball_runs', 'penalty_runs',\n",
       "       'batsman_runs', 'extra_runs', 'total_runs', 'player_dismissed',\n",
       "       'dismissal_kind', 'fielder'],\n",
       "      dtype='object')"
      ]
     },
     "execution_count": 27,
     "metadata": {},
     "output_type": "execute_result"
    }
   ],
   "source": [
    "IPL.columns"
   ]
  },
  {
   "cell_type": "markdown",
   "id": "59c0ed90",
   "metadata": {},
   "source": [
    "## Data Preprocessing"
   ]
  },
  {
   "cell_type": "code",
   "execution_count": 28,
   "id": "e0ae08f2",
   "metadata": {},
   "outputs": [
    {
     "data": {
      "text/plain": [
       "match_id            False\n",
       "season              False\n",
       "city                 True\n",
       "date                False\n",
       "team1               False\n",
       "team2               False\n",
       "toss_winner         False\n",
       "toss_decision       False\n",
       "result              False\n",
       "dl_applied          False\n",
       "winner               True\n",
       "win_by_runs         False\n",
       "win_by_wickets      False\n",
       "player_of_match      True\n",
       "venue               False\n",
       "umpire1              True\n",
       "umpire2              True\n",
       "umpire3              True\n",
       "inning              False\n",
       "batting_team        False\n",
       "bowling_team        False\n",
       "over                False\n",
       "ball                False\n",
       "batsman             False\n",
       "non_striker         False\n",
       "bowler              False\n",
       "is_super_over       False\n",
       "wide_runs           False\n",
       "bye_runs            False\n",
       "legbye_runs         False\n",
       "noball_runs         False\n",
       "penalty_runs        False\n",
       "batsman_runs        False\n",
       "extra_runs          False\n",
       "total_runs          False\n",
       "player_dismissed     True\n",
       "dismissal_kind       True\n",
       "fielder              True\n",
       "dtype: bool"
      ]
     },
     "execution_count": 28,
     "metadata": {},
     "output_type": "execute_result"
    }
   ],
   "source": [
    "IPL.isna().any()"
   ]
  },
  {
   "cell_type": "markdown",
   "id": "981f7fc9",
   "metadata": {},
   "source": [
    "## Stastistical Description of Dataset"
   ]
  },
  {
   "cell_type": "code",
   "execution_count": 29,
   "id": "67abbe3a",
   "metadata": {},
   "outputs": [
    {
     "data": {
      "text/html": [
       "<div>\n",
       "<style scoped>\n",
       "    .dataframe tbody tr th:only-of-type {\n",
       "        vertical-align: middle;\n",
       "    }\n",
       "\n",
       "    .dataframe tbody tr th {\n",
       "        vertical-align: top;\n",
       "    }\n",
       "\n",
       "    .dataframe thead th {\n",
       "        text-align: right;\n",
       "    }\n",
       "</style>\n",
       "<table border=\"1\" class=\"dataframe\">\n",
       "  <thead>\n",
       "    <tr style=\"text-align: right;\">\n",
       "      <th></th>\n",
       "      <th>match_id</th>\n",
       "      <th>season</th>\n",
       "      <th>dl_applied</th>\n",
       "      <th>win_by_runs</th>\n",
       "      <th>win_by_wickets</th>\n",
       "      <th>inning</th>\n",
       "      <th>over</th>\n",
       "      <th>ball</th>\n",
       "      <th>is_super_over</th>\n",
       "      <th>wide_runs</th>\n",
       "      <th>bye_runs</th>\n",
       "      <th>legbye_runs</th>\n",
       "      <th>noball_runs</th>\n",
       "      <th>penalty_runs</th>\n",
       "      <th>batsman_runs</th>\n",
       "      <th>extra_runs</th>\n",
       "      <th>total_runs</th>\n",
       "    </tr>\n",
       "  </thead>\n",
       "  <tbody>\n",
       "    <tr>\n",
       "      <th>count</th>\n",
       "      <td>179078.000000</td>\n",
       "      <td>179078.000000</td>\n",
       "      <td>179078.000000</td>\n",
       "      <td>179078.000000</td>\n",
       "      <td>179078.000000</td>\n",
       "      <td>179078.000000</td>\n",
       "      <td>179078.000000</td>\n",
       "      <td>179078.000000</td>\n",
       "      <td>179078.000000</td>\n",
       "      <td>179078.000000</td>\n",
       "      <td>179078.000000</td>\n",
       "      <td>179078.000000</td>\n",
       "      <td>179078.000000</td>\n",
       "      <td>179078.000000</td>\n",
       "      <td>179078.000000</td>\n",
       "      <td>179078.000000</td>\n",
       "      <td>179078.000000</td>\n",
       "    </tr>\n",
       "    <tr>\n",
       "      <th>mean</th>\n",
       "      <td>1802.252957</td>\n",
       "      <td>2013.444510</td>\n",
       "      <td>0.017914</td>\n",
       "      <td>13.404036</td>\n",
       "      <td>3.261579</td>\n",
       "      <td>1.482952</td>\n",
       "      <td>10.162488</td>\n",
       "      <td>3.615587</td>\n",
       "      <td>0.000452</td>\n",
       "      <td>0.036721</td>\n",
       "      <td>0.004936</td>\n",
       "      <td>0.021136</td>\n",
       "      <td>0.004183</td>\n",
       "      <td>0.000056</td>\n",
       "      <td>1.246864</td>\n",
       "      <td>0.067032</td>\n",
       "      <td>1.313897</td>\n",
       "    </tr>\n",
       "    <tr>\n",
       "      <th>std</th>\n",
       "      <td>3472.322805</td>\n",
       "      <td>3.363947</td>\n",
       "      <td>0.132639</td>\n",
       "      <td>23.261007</td>\n",
       "      <td>3.347033</td>\n",
       "      <td>0.502074</td>\n",
       "      <td>5.677684</td>\n",
       "      <td>1.806966</td>\n",
       "      <td>0.021263</td>\n",
       "      <td>0.251161</td>\n",
       "      <td>0.116480</td>\n",
       "      <td>0.194908</td>\n",
       "      <td>0.070492</td>\n",
       "      <td>0.016709</td>\n",
       "      <td>1.608270</td>\n",
       "      <td>0.342553</td>\n",
       "      <td>1.605422</td>\n",
       "    </tr>\n",
       "    <tr>\n",
       "      <th>min</th>\n",
       "      <td>1.000000</td>\n",
       "      <td>2008.000000</td>\n",
       "      <td>0.000000</td>\n",
       "      <td>0.000000</td>\n",
       "      <td>0.000000</td>\n",
       "      <td>1.000000</td>\n",
       "      <td>1.000000</td>\n",
       "      <td>1.000000</td>\n",
       "      <td>0.000000</td>\n",
       "      <td>0.000000</td>\n",
       "      <td>0.000000</td>\n",
       "      <td>0.000000</td>\n",
       "      <td>0.000000</td>\n",
       "      <td>0.000000</td>\n",
       "      <td>0.000000</td>\n",
       "      <td>0.000000</td>\n",
       "      <td>0.000000</td>\n",
       "    </tr>\n",
       "    <tr>\n",
       "      <th>25%</th>\n",
       "      <td>190.000000</td>\n",
       "      <td>2011.000000</td>\n",
       "      <td>0.000000</td>\n",
       "      <td>0.000000</td>\n",
       "      <td>0.000000</td>\n",
       "      <td>1.000000</td>\n",
       "      <td>5.000000</td>\n",
       "      <td>2.000000</td>\n",
       "      <td>0.000000</td>\n",
       "      <td>0.000000</td>\n",
       "      <td>0.000000</td>\n",
       "      <td>0.000000</td>\n",
       "      <td>0.000000</td>\n",
       "      <td>0.000000</td>\n",
       "      <td>0.000000</td>\n",
       "      <td>0.000000</td>\n",
       "      <td>0.000000</td>\n",
       "    </tr>\n",
       "    <tr>\n",
       "      <th>50%</th>\n",
       "      <td>379.000000</td>\n",
       "      <td>2013.000000</td>\n",
       "      <td>0.000000</td>\n",
       "      <td>0.000000</td>\n",
       "      <td>3.000000</td>\n",
       "      <td>1.000000</td>\n",
       "      <td>10.000000</td>\n",
       "      <td>4.000000</td>\n",
       "      <td>0.000000</td>\n",
       "      <td>0.000000</td>\n",
       "      <td>0.000000</td>\n",
       "      <td>0.000000</td>\n",
       "      <td>0.000000</td>\n",
       "      <td>0.000000</td>\n",
       "      <td>1.000000</td>\n",
       "      <td>0.000000</td>\n",
       "      <td>1.000000</td>\n",
       "    </tr>\n",
       "    <tr>\n",
       "      <th>75%</th>\n",
       "      <td>567.000000</td>\n",
       "      <td>2016.000000</td>\n",
       "      <td>0.000000</td>\n",
       "      <td>19.000000</td>\n",
       "      <td>6.000000</td>\n",
       "      <td>2.000000</td>\n",
       "      <td>15.000000</td>\n",
       "      <td>5.000000</td>\n",
       "      <td>0.000000</td>\n",
       "      <td>0.000000</td>\n",
       "      <td>0.000000</td>\n",
       "      <td>0.000000</td>\n",
       "      <td>0.000000</td>\n",
       "      <td>0.000000</td>\n",
       "      <td>1.000000</td>\n",
       "      <td>0.000000</td>\n",
       "      <td>1.000000</td>\n",
       "    </tr>\n",
       "    <tr>\n",
       "      <th>max</th>\n",
       "      <td>11415.000000</td>\n",
       "      <td>2019.000000</td>\n",
       "      <td>1.000000</td>\n",
       "      <td>146.000000</td>\n",
       "      <td>10.000000</td>\n",
       "      <td>5.000000</td>\n",
       "      <td>20.000000</td>\n",
       "      <td>9.000000</td>\n",
       "      <td>1.000000</td>\n",
       "      <td>5.000000</td>\n",
       "      <td>4.000000</td>\n",
       "      <td>5.000000</td>\n",
       "      <td>5.000000</td>\n",
       "      <td>5.000000</td>\n",
       "      <td>7.000000</td>\n",
       "      <td>7.000000</td>\n",
       "      <td>10.000000</td>\n",
       "    </tr>\n",
       "  </tbody>\n",
       "</table>\n",
       "</div>"
      ],
      "text/plain": [
       "            match_id         season     dl_applied    win_by_runs  \\\n",
       "count  179078.000000  179078.000000  179078.000000  179078.000000   \n",
       "mean     1802.252957    2013.444510       0.017914      13.404036   \n",
       "std      3472.322805       3.363947       0.132639      23.261007   \n",
       "min         1.000000    2008.000000       0.000000       0.000000   \n",
       "25%       190.000000    2011.000000       0.000000       0.000000   \n",
       "50%       379.000000    2013.000000       0.000000       0.000000   \n",
       "75%       567.000000    2016.000000       0.000000      19.000000   \n",
       "max     11415.000000    2019.000000       1.000000     146.000000   \n",
       "\n",
       "       win_by_wickets         inning           over           ball  \\\n",
       "count   179078.000000  179078.000000  179078.000000  179078.000000   \n",
       "mean         3.261579       1.482952      10.162488       3.615587   \n",
       "std          3.347033       0.502074       5.677684       1.806966   \n",
       "min          0.000000       1.000000       1.000000       1.000000   \n",
       "25%          0.000000       1.000000       5.000000       2.000000   \n",
       "50%          3.000000       1.000000      10.000000       4.000000   \n",
       "75%          6.000000       2.000000      15.000000       5.000000   \n",
       "max         10.000000       5.000000      20.000000       9.000000   \n",
       "\n",
       "       is_super_over      wide_runs       bye_runs    legbye_runs  \\\n",
       "count  179078.000000  179078.000000  179078.000000  179078.000000   \n",
       "mean        0.000452       0.036721       0.004936       0.021136   \n",
       "std         0.021263       0.251161       0.116480       0.194908   \n",
       "min         0.000000       0.000000       0.000000       0.000000   \n",
       "25%         0.000000       0.000000       0.000000       0.000000   \n",
       "50%         0.000000       0.000000       0.000000       0.000000   \n",
       "75%         0.000000       0.000000       0.000000       0.000000   \n",
       "max         1.000000       5.000000       4.000000       5.000000   \n",
       "\n",
       "         noball_runs   penalty_runs   batsman_runs     extra_runs  \\\n",
       "count  179078.000000  179078.000000  179078.000000  179078.000000   \n",
       "mean        0.004183       0.000056       1.246864       0.067032   \n",
       "std         0.070492       0.016709       1.608270       0.342553   \n",
       "min         0.000000       0.000000       0.000000       0.000000   \n",
       "25%         0.000000       0.000000       0.000000       0.000000   \n",
       "50%         0.000000       0.000000       1.000000       0.000000   \n",
       "75%         0.000000       0.000000       1.000000       0.000000   \n",
       "max         5.000000       5.000000       7.000000       7.000000   \n",
       "\n",
       "          total_runs  \n",
       "count  179078.000000  \n",
       "mean        1.313897  \n",
       "std         1.605422  \n",
       "min         0.000000  \n",
       "25%         0.000000  \n",
       "50%         1.000000  \n",
       "75%         1.000000  \n",
       "max        10.000000  "
      ]
     },
     "execution_count": 29,
     "metadata": {},
     "output_type": "execute_result"
    }
   ],
   "source": [
    "IPL.describe()"
   ]
  },
  {
   "cell_type": "code",
   "execution_count": 30,
   "id": "8d14092a",
   "metadata": {},
   "outputs": [
    {
     "data": {
      "text/plain": [
       "0         False\n",
       "1         False\n",
       "2         False\n",
       "3         False\n",
       "4         False\n",
       "          ...  \n",
       "179073    False\n",
       "179074    False\n",
       "179075    False\n",
       "179076    False\n",
       "179077    False\n",
       "Length: 179078, dtype: bool"
      ]
     },
     "execution_count": 30,
     "metadata": {},
     "output_type": "execute_result"
    }
   ],
   "source": [
    "IPL.duplicated()"
   ]
  },
  {
   "cell_type": "code",
   "execution_count": 31,
   "id": "33c06703",
   "metadata": {},
   "outputs": [
    {
     "data": {
      "text/plain": [
       "False    179055\n",
       "True         23\n",
       "dtype: int64"
      ]
     },
     "execution_count": 31,
     "metadata": {},
     "output_type": "execute_result"
    }
   ],
   "source": [
    "IPL.duplicated().value_counts()"
   ]
  },
  {
   "cell_type": "code",
   "execution_count": 32,
   "id": "f438480a",
   "metadata": {},
   "outputs": [],
   "source": [
    "ipl=IPL.drop_duplicates()"
   ]
  },
  {
   "cell_type": "code",
   "execution_count": 34,
   "id": "33cc20c0",
   "metadata": {},
   "outputs": [
    {
     "data": {
      "text/plain": [
       "False    179055\n",
       "dtype: int64"
      ]
     },
     "execution_count": 34,
     "metadata": {},
     "output_type": "execute_result"
    }
   ],
   "source": [
    "ipl.duplicated().value_counts()"
   ]
  },
  {
   "cell_type": "markdown",
   "id": "8ac00db2",
   "metadata": {},
   "source": [
    "## 2. The column which has the most missing values according to the data"
   ]
  },
  {
   "cell_type": "code",
   "execution_count": 39,
   "id": "9a11014c",
   "metadata": {},
   "outputs": [
    {
     "name": "stdout",
     "output_type": "stream",
     "text": [
      "The column with the most missing values is: fielder\n"
     ]
    }
   ],
   "source": [
    "# Find the column with the most missing values\n",
    "most_missing_values =ipl.isnull().sum().idxmax()\n",
    "print(f\"The column with the most missing values is: {most_missing_values}\")"
   ]
  },
  {
   "cell_type": "markdown",
   "id": "79a73a1c",
   "metadata": {},
   "source": [
    "## 3. City which hosted most number of seasons according to the data is"
   ]
  },
  {
   "cell_type": "code",
   "execution_count": 41,
   "id": "d8e82408",
   "metadata": {},
   "outputs": [
    {
     "name": "stdout",
     "output_type": "stream",
     "text": [
      "The city that hosted the most number of seasons is: Delhi\n"
     ]
    }
   ],
   "source": [
    "# Group by 'City' and count the number of unique seasons for each city\n",
    "city_season_counts = ipl.groupby('city')['season'].nunique()\n",
    "\n",
    "# Find the city with the maximum number of seasons\n",
    "most_seasons_city = city_season_counts.idxmax()\n",
    "print(f\"The city that hosted the most number of seasons is: {most_seasons_city}\")"
   ]
  },
  {
   "cell_type": "code",
   "execution_count": 145,
   "id": "313be011",
   "metadata": {},
   "outputs": [
    {
     "data": {
      "image/png": "[encoded data removed]",
      "text/plain": [
       "<Figure size 720x432 with 1 Axes>"
      ]
     },
     "metadata": {
      "needs_background": "light"
     },
     "output_type": "display_data"
    }
   ],
   "source": [
    "# Plot the results\n",
    "plt.figure(figsize=(10, 6))\n",
    "city_season_counts.plot(kind='bar', color='skyblue')\n",
    "plt.title('Number of Seasons Hosted by Each City')\n",
    "plt.xlabel('City')\n",
    "plt.ylabel('Number of Seasons')\n",
    "plt.show()"
   ]
  },
  {
   "cell_type": "markdown",
   "id": "4545d7c1",
   "metadata": {},
   "source": [
    "## 4. Which year has the most number of matches played"
   ]
  },
  {
   "cell_type": "code",
   "execution_count": 48,
   "id": "a29c86da",
   "metadata": {},
   "outputs": [
    {
     "name": "stdout",
     "output_type": "stream",
     "text": [
      "The year with the most number of matches played is: 2013\n"
     ]
    }
   ],
   "source": [
    "# Extract the year from the 'Date' column\n",
    "ipl['Year'] = pd.to_datetime(ipl['date']).dt.year\n",
    "\n",
    "# Group by 'Year' and count the number of matches played in each year\n",
    "matches_per_year = ipl['Year'].value_counts()\n",
    "\n",
    "# Find the year with the maximum number of matches\n",
    "most_matches_year = matches_per_year.idxmax()\n",
    "print(f\"The year with the most number of matches played is: {most_matches_year}\")"
   ]
  },
  {
   "cell_type": "code",
   "execution_count": 144,
   "id": "037ef72e",
   "metadata": {},
   "outputs": [
    {
     "data": {
      "image/png": "[encoded data removed]",
      "text/plain": [
       "<Figure size 720x432 with 1 Axes>"
      ]
     },
     "metadata": {
      "needs_background": "light"
     },
     "output_type": "display_data"
    }
   ],
   "source": [
    "# Plot the results\n",
    "plt.figure(figsize=(10, 6))\n",
    "matches_per_year.sort_index().plot(kind='bar', color='lightgreen')\n",
    "plt.title('Number of Matches Played Each Year')\n",
    "plt.xlabel('Year')\n",
    "plt.ylabel('Number of Matches')\n",
    "plt.show()"
   ]
  },
  {
   "cell_type": "markdown",
   "id": "4288119f",
   "metadata": {},
   "source": [
    "## 5. Maximum wins by Mumbai Indians in 2011 are"
   ]
  },
  {
   "cell_type": "code",
   "execution_count": 58,
   "id": "fa05d9e7",
   "metadata": {},
   "outputs": [
    {
     "name": "stdout",
     "output_type": "stream",
     "text": [
      "Mumbai Indians had 10 unique wins in the year 2011.\n"
     ]
    }
   ],
   "source": [
    "# Filter data for the year 2011 and Mumbai Indians team\n",
    "mi_2011 = ipl[(ipl['season'] == 2011) & ((ipl['team1'] == 'Mumbai Indians') | (ipl['team2'] == 'Mumbai Indians'))]\n",
    "\n",
    "# Drop duplicate matches based on match id\n",
    "mi_2011_unique = mi_2011.drop_duplicates(subset='match_id')\n",
    "\n",
    "# Count the number of wins for Mumbai Indians\n",
    "mi_wins_count = mi_2011_unique[mi_2011_unique['winner'] == 'Mumbai Indians'].shape[0]\n",
    "print(f\"Mumbai Indians had {mi_wins_count} unique wins in the year 2011.\")"
   ]
  },
  {
   "cell_type": "code",
   "execution_count": 60,
   "id": "a679b53e",
   "metadata": {},
   "outputs": [
    {
     "data": {
      "text/plain": [
       "10"
      ]
     },
     "execution_count": 60,
     "metadata": {},
     "output_type": "execute_result"
    }
   ],
   "source": [
    "mi_wins_count"
   ]
  },
  {
   "cell_type": "code",
   "execution_count": 64,
   "id": "ea237eb5",
   "metadata": {},
   "outputs": [
    {
     "data": {
      "text/plain": [
       "<Figure size 576x360 with 0 Axes>"
      ]
     },
     "metadata": {},
     "output_type": "display_data"
    },
    {
     "data": {
      "image/png": "[encoded data removed]",
      "text/plain": [
       "<Figure size 432x288 with 1 Axes>"
      ]
     },
     "metadata": {
      "needs_background": "light"
     },
     "output_type": "display_data"
    }
   ],
   "source": [
    "# Plot the results\n",
    "plt.figure(figsize=(8, 5))\n",
    "mi_wins_count_df = pd.DataFrame({'Team': ['Mumbai Indians'], 'Wins': [mi_wins_count]})\n",
    "mi_wins_count_df.plot(kind='bar', x='Team', y='Wins', color='blue', legend=False)\n",
    "plt.title('Number of Wins by Mumbai Indians in 2011')\n",
    "plt.xlabel('Team')\n",
    "plt.ylabel('Number of Wins')\n",
    "plt.show()"
   ]
  },
  {
   "cell_type": "markdown",
   "id": "8551aa74",
   "metadata": {},
   "source": [
    "## 6. For 'toss_decision' feature what kind of plot is suitable?"
   ]
  },
  {
   "cell_type": "code",
   "execution_count": 65,
   "id": "0c59eb71",
   "metadata": {},
   "outputs": [
    {
     "data": {
      "image/png": "[encoded data removed]",
      "text/plain": [
       "<Figure size 576x360 with 1 Axes>"
      ]
     },
     "metadata": {
      "needs_background": "light"
     },
     "output_type": "display_data"
    }
   ],
   "source": [
    "# Create a count plot for 'toss_decision'\n",
    "plt.figure(figsize=(8, 5))\n",
    "sns.countplot(x='toss_decision', data=ipl, palette='viridis')\n",
    "plt.title('Distribution of Toss Decisions')\n",
    "plt.xlabel('Toss Decision')\n",
    "plt.ylabel('Count')\n",
    "plt.show()"
   ]
  },
  {
   "cell_type": "markdown",
   "id": "42f3a35d",
   "metadata": {},
   "source": [
    "## 7.  What is the percentage of getting bat and field in feature 'toss_descision'?"
   ]
  },
  {
   "cell_type": "code",
   "execution_count": 143,
   "id": "7651bc10",
   "metadata": {},
   "outputs": [
    {
     "data": {
      "image/png": "[encoded data removed]",
      "text/plain": [
       "<Figure size 576x576 with 1 Axes>"
      ]
     },
     "metadata": {},
     "output_type": "display_data"
    },
    {
     "name": "stdout",
     "output_type": "stream",
     "text": [
      "Percentage of teams choosing to bat: 39.009242970037135\n",
      "Percentage of teams choosing to field: 60.990757029962865\n"
     ]
    }
   ],
   "source": [
    "# Calculate the percentage of each toss decision\n",
    "toss_decision_percentage = ipl['toss_decision'].value_counts(normalize=True) * 100\n",
    "\n",
    "# Create a pie chart to visualize the percentages\n",
    "plt.figure(figsize=(8, 8))\n",
    "plt.pie(toss_decision_percentage, labels=toss_decision_percentage.index, autopct='%1.1f%%', colors=['lightgreen', 'darkgreen'])\n",
    "plt.title('Percentage of Toss Decisions (Batting vs. Fielding)')\n",
    "plt.show()\n",
    "print(\"Percentage of teams choosing to bat:\", toss_decision_percentage['bat'])\n",
    "print(\"Percentage of teams choosing to field:\", toss_decision_percentage['field'])"
   ]
  },
  {
   "cell_type": "markdown",
   "id": "ca745205",
   "metadata": {},
   "source": [
    "## 8. Which statement holds true"
   ]
  },
  {
   "cell_type": "code",
   "execution_count": 70,
   "id": "d285b3ff",
   "metadata": {},
   "outputs": [
    {
     "name": "stdout",
     "output_type": "stream",
     "text": [
      "A) Teams winning tosses and electing field first have won more number of matches.\n"
     ]
    }
   ],
   "source": [
    "# Calculate the number of matches won by teams choosing to bat and field\n",
    "bat_wins = ipl[ipl['toss_decision'] == 'bat']['winner'].count()\n",
    "field_wins = ipl[ipl['toss_decision'] == 'field']['winner'].count()\n",
    "\n",
    "# Compare the counts and determine which statement holds true\n",
    "if bat_wins > field_wins:\n",
    "    print(\"B) Teams winning tosses and electing bat first have won more number of matches.\")\n",
    "elif field_wins > bat_wins:\n",
    "    print(\"A) Teams winning tosses and electing field first have won more number of matches.\")\n",
    "else:\n",
    "    print(\"C) Both A and B\")"
   ]
  },
  {
   "cell_type": "code",
   "execution_count": 71,
   "id": "663df81c",
   "metadata": {},
   "outputs": [
    {
     "data": {
      "image/png": "[encoded data removed]",
      "text/plain": [
       "<Figure size 576x360 with 1 Axes>"
      ]
     },
     "metadata": {
      "needs_background": "light"
     },
     "output_type": "display_data"
    }
   ],
   "source": [
    "# Create a bar plot\n",
    "plt.figure(figsize=(8, 5))\n",
    "plt.bar(['Teams choosing to bat', 'Teams choosing to field'], [bat_wins, field_wins], color=['lightblue', 'lightgreen'])\n",
    "plt.title('Number of Matches Won by Toss Decision')\n",
    "plt.xlabel('Toss Decision')\n",
    "plt.ylabel('Number of Matches Won')\n",
    "plt.show()"
   ]
  },
  {
   "cell_type": "markdown",
   "id": "601fc77e",
   "metadata": {},
   "source": [
    "## 9. In which years where taking batting second have won more number of matches?"
   ]
  },
  {
   "cell_type": "code",
   "execution_count": 75,
   "id": "8e460269",
   "metadata": {},
   "outputs": [
    {
     "name": "stdout",
     "output_type": "stream",
     "text": [
      "Years with more wins when batting second: [2008, 2011, 2014, 2015, 2016, 2017, 2018, 2019]\n"
     ]
    }
   ],
   "source": [
    "## 10. # Filter data for matches where teams chose to bat second and won\n",
    "bat_second_wins = ipl[(ipl['toss_decision'] == 'field') & (ipl['toss_winner'] == ipl['winner'])]\n",
    "\n",
    "# Group by 'Year' and count the number of matches won by batting second and batting first in each year\n",
    "wins_by_year = ipl.groupby(['Year', 'toss_decision'])['winner'].count().unstack(fill_value=0)\n",
    "\n",
    "# Identify the years where batting second wins more matches\n",
    "years_with_more_bat_second_wins = wins_by_year[wins_by_year['field'] > wins_by_year['bat']].index\n",
    "\n",
    "# Print the result\n",
    "print(\"Years with more wins when batting second:\", list(years_with_more_bat_second_wins))"
   ]
  },
  {
   "cell_type": "code",
   "execution_count": 141,
   "id": "2b3812de",
   "metadata": {},
   "outputs": [
    {
     "data": {
      "text/plain": [
       "<Figure size 720x432 with 0 Axes>"
      ]
     },
     "metadata": {},
     "output_type": "display_data"
    },
    {
     "data": {
      "image/png": "[encoded data removed]",
      "text/plain": [
       "<Figure size 432x288 with 1 Axes>"
      ]
     },
     "metadata": {
      "needs_background": "light"
     },
     "output_type": "display_data"
    }
   ],
   "source": [
    "# Create a bar plot\n",
    "plt.figure(figsize=(10, 6))\n",
    "wins_by_year.plot(kind='bar', stacked=True, color=['lightgreen', 'lightblue'])\n",
    "plt.title('Number of Matches Won by Toss Decision (Each Year)')\n",
    "plt.xlabel('Year')\n",
    "plt.ylabel('Number of Matches Won')\n",
    "plt.legend(['Batting First', 'Batting Second'])\n",
    "plt.show()"
   ]
  },
  {
   "cell_type": "markdown",
   "id": "586ad7d9",
   "metadata": {},
   "source": [
    "## 10. To plot the most consistent batsmen among top 10 run getters, what plotting technique we use?"
   ]
  },
  {
   "cell_type": "code",
   "execution_count": 140,
   "id": "b7739446",
   "metadata": {},
   "outputs": [
    {
     "data": {
      "image/png": "[encoded data removed]",
      "text/plain": [
       "<Figure size 864x432 with 1 Axes>"
      ]
     },
     "metadata": {
      "needs_background": "light"
     },
     "output_type": "display_data"
    }
   ],
   "source": [
    "# Sort the DataFrame by runs in descending order to get the top 10 run-getters\n",
    "top_10_run_getters = ipl.sort_values(by='total_runs', ascending=False).head(10)\n",
    "\n",
    "# Calculate the mean and standard deviation of runs for each batsman\n",
    "mean_runs = top_10_run_getters.groupby('batsman')['total_runs'].mean()\n",
    "std_dev_runs = top_10_run_getters.groupby('batsman')['total_runs'].std()\n",
    "\n",
    "# Create a box plot\n",
    "plt.figure(figsize=(12, 6))\n",
    "sns.boxplot(x='batsman', y='total_runs', data=ipl, color='skyblue')\n",
    "plt.title('Consistency of Top 10 Run-Getters')\n",
    "plt.xlabel('Batsman')\n",
    "plt.ylabel('Runs')\n",
    "plt.show()"
   ]
  },
  {
   "cell_type": "code",
   "execution_count": 139,
   "id": "25440b6d",
   "metadata": {},
   "outputs": [
    {
     "data": {
      "image/png": "[encoded data removed]",
      "text/plain": [
       "<Figure size 864x432 with 1 Axes>"
      ]
     },
     "metadata": {
      "needs_background": "light"
     },
     "output_type": "display_data"
    }
   ],
   "source": [
    "# Create a bar plot with error bars\n",
    "plt.figure(figsize=(12, 6))\n",
    "plt.bar(mean_runs.index, mean_runs, yerr=std_dev_runs, capsize=5, color='skyblue', alpha=0.7)\n",
    "plt.title('Consistency of Top 10 Run-Getters')\n",
    "plt.xlabel('Batsman')\n",
    "plt.ylabel('Average Runs')\n",
    "plt.show()"
   ]
  },
  {
   "cell_type": "markdown",
   "id": "e90d11df",
   "metadata": {},
   "source": [
    "## 11. In 2019 which batsman scored highest number of runs by hitting 6's and 4's?"
   ]
  },
  {
   "cell_type": "code",
   "execution_count": 96,
   "id": "2b76d191",
   "metadata": {},
   "outputs": [
    {
     "name": "stdout",
     "output_type": "stream",
     "text": [
      "In 2019, the batsman who scored the highest number of runs by hitting 4's and 6's is DA Warner with 762 runs.\n"
     ]
    }
   ],
   "source": [
    "#Filter the DataFrame for the year 2019\n",
    "ipl_2019 = ipl[ipl['season'] == 2019]\n",
    "\n",
    "#Calculate the total runs scored by hitting 4's and 6's for each batsman\n",
    "ipl_2019['Runs_from_4s_and_6s'] = ipl_2019['total_runs'] - (1 * (ipl_2019['total_runs'] // 100))\n",
    "\n",
    "#Group by batsman and sum the runs from 4's and 6's\n",
    "total_runs_by_4s_and_6s = ipl_2019.groupby('batsman')['Runs_from_4s_and_6s'].sum()\n",
    "\n",
    "#Find the batsman with the highest total runs from 4's and 6's\n",
    "highest_scorer = total_runs_by_4s_and_6s.idxmax()\n",
    "highest_runs = total_runs_by_4s_and_6s.max()\n",
    "print(f\"In 2019, the batsman who scored the highest number of runs by hitting 4's and 6's is {highest_scorer} with {highest_runs} runs.\")"
   ]
  },
  {
   "cell_type": "code",
   "execution_count": 138,
   "id": "d8ee0b72",
   "metadata": {},
   "outputs": [
    {
     "data": {
      "image/png": "[encoded data removed]",
      "text/plain": [
       "<Figure size 864x432 with 1 Axes>"
      ]
     },
     "metadata": {
      "needs_background": "light"
     },
     "output_type": "display_data"
    }
   ],
   "source": [
    "# Create a bar plot\n",
    "plt.figure(figsize=(12, 6))\n",
    "total_runs_by_4s_and_6s.sort_values(ascending=False).plot(kind='bar', color='skyblue')\n",
    "plt.title('Total Runs from 4\\'s and 6\\'s for Each Batsman in 2019')\n",
    "plt.xlabel('Batsman')\n",
    "plt.ylabel('Total Runs from 4\\'s and 6\\'s')\n",
    "plt.show()"
   ]
  },
  {
   "cell_type": "markdown",
   "id": "90ac3c41",
   "metadata": {},
   "source": [
    "## 12. Most number of wickets taken by a bowler is"
   ]
  },
  {
   "cell_type": "code",
   "execution_count": 104,
   "id": "2d53cef3",
   "metadata": {},
   "outputs": [
    {
     "name": "stdout",
     "output_type": "stream",
     "text": [
      "The bowler who took the most number of wickets is Harbhajan Singh with 3451 wickets.\n"
     ]
    }
   ],
   "source": [
    "# Group by bowler and count the number of wickets\n",
    "total_wickets_by_bowler = ipl['bowler'].value_counts()\n",
    "\n",
    "# Identify the bowler with the most number of wickets\n",
    "most_wickets_bowler = total_wickets_by_bowler.idxmax()\n",
    "most_wickets = total_wickets_by_bowler.max()\n",
    "print(f\"The bowler who took the most number of wickets is {most_wickets_bowler} with {most_wickets} wickets.\")"
   ]
  },
  {
   "cell_type": "code",
   "execution_count": 137,
   "id": "a1f17bb5",
   "metadata": {},
   "outputs": [
    {
     "data": {
      "image/png": "[encoded data removed]",
      "text/plain": [
       "<Figure size 864x432 with 1 Axes>"
      ]
     },
     "metadata": {
      "needs_background": "light"
     },
     "output_type": "display_data"
    }
   ],
   "source": [
    "# Select the top 10 bowlers\n",
    "top_10_wickets = total_wickets_by_bowler.head(10)\n",
    "\n",
    "# Create a bar plot for the top 10 bowlers\n",
    "plt.figure(figsize=(12, 6))\n",
    "top_10_wickets.sort_values(ascending=False).plot(kind='bar', color='green')\n",
    "plt.title('Top 10 Bowlers with the Highest Number of Wickets')\n",
    "plt.xlabel('Bowler')\n",
    "plt.ylabel('Number of Wickets')\n",
    "plt.show()"
   ]
  },
  {
   "cell_type": "markdown",
   "id": "99e4f4e5",
   "metadata": {},
   "source": [
    "## 13.  What is the strike rate of Kohli in 2016"
   ]
  },
  {
   "cell_type": "code",
   "execution_count": 151,
   "id": "e700b253",
   "metadata": {},
   "outputs": [
    {
     "name": "stdout",
     "output_type": "stream",
     "text": [
      "Virat Kohli's strike rate in 2016 was 44.45\n"
     ]
    }
   ],
   "source": [
    "#Filter DataFrame for rows where Kohli batted in 2016\n",
    "kohli_2016_data = ipl[(ipl['batsman'] == 'V Kohli') & (ipl['season'] == 2016)]\n",
    "\n",
    "#Calculate the total runs and total balls faced by Kohli in 2016\n",
    "total_runs = kohli_2016_data['total_runs'].sum()\n",
    "total_balls = kohli_2016_data['ball'].sum()\n",
    "\n",
    "#Calculate the strike rate\n",
    "strike_rate = (total_runs / total_balls) * 100\n",
    "\n",
    "print(f\"Virat Kohli's strike rate in 2016 was {strike_rate:.2f}\")"
   ]
  },
  {
   "cell_type": "code",
   "execution_count": null,
   "id": "801fd716",
   "metadata": {},
   "outputs": [],
   "source": []
  },
  {
   "cell_type": "markdown",
   "id": "3ec4cd10",
   "metadata": {},
   "source": [
    "## 14. Bowlers with maximum number of extras"
   ]
  },
  {
   "cell_type": "code",
   "execution_count": 117,
   "id": "382f5154",
   "metadata": {},
   "outputs": [
    {
     "name": "stdout",
     "output_type": "stream",
     "text": [
      "Bowlers with the maximum number of extras:\n",
      "bowler\n",
      "SL Malinga    293\n",
      "Name: extra_runs, dtype: int64\n"
     ]
    }
   ],
   "source": [
    "# Group by bowler and sum the number of extras\n",
    "total_extras_by_bowler = ipl.groupby('bowler')['extra_runs'].sum()\n",
    "\n",
    "# Identify the bowlers with the maximum number of extras\n",
    "max_extras_bowlers = total_extras_by_bowler[total_extras_by_bowler == total_extras_by_bowler.max()]\n",
    "print(\"Bowlers with the maximum number of extras:\")\n",
    "print(max_extras_bowlers)"
   ]
  },
  {
   "cell_type": "code",
   "execution_count": 136,
   "id": "96ccbc5a",
   "metadata": {},
   "outputs": [
    {
     "data": {
      "image/png": "[encoded data removed]",
      "text/plain": [
       "<Figure size 864x432 with 1 Axes>"
      ]
     },
     "metadata": {
      "needs_background": "light"
     },
     "output_type": "display_data"
    }
   ],
   "source": [
    "# Create a bar plot for the bowlers with the maximum number of extras\n",
    "plt.figure(figsize=(12, 6))\n",
    "max_extras_bowlers.sort_values(ascending=False).plot(kind='bar', color='red')\n",
    "plt.title('Bowlers with the Maximum Number of Extras')\n",
    "plt.xlabel('Bowler')\n",
    "plt.ylabel('Total Extras')\n",
    "plt.show()"
   ]
  },
  {
   "cell_type": "markdown",
   "id": "e7b96388",
   "metadata": {},
   "source": [
    "## 15. Which venue has hosted most number of IPL matches?"
   ]
  },
  {
   "cell_type": "code",
   "execution_count": 119,
   "id": "a0a1255f",
   "metadata": {},
   "outputs": [
    {
     "name": "stdout",
     "output_type": "stream",
     "text": [
      "The venue that has hosted the most number of IPL matches is Eden Gardens with 17989 matches.\n"
     ]
    }
   ],
   "source": [
    "# Group by venue and count the number of matches\n",
    "matches_by_venue = ipl['venue'].value_counts()\n",
    "\n",
    "# Identify the venue with the most number of matches\n",
    "max_matches_venue = matches_by_venue.idxmax()\n",
    "max_matches_count = matches_by_venue.max()\n",
    "print(f\"The venue that has hosted the most number of IPL matches is {max_matches_venue} with {max_matches_count} matches.\")"
   ]
  },
  {
   "cell_type": "code",
   "execution_count": 135,
   "id": "1d0fa42b",
   "metadata": {},
   "outputs": [
    {
     "data": {
      "image/png": "[encoded data removed]",
      "text/plain": [
       "<Figure size 864x432 with 1 Axes>"
      ]
     },
     "metadata": {
      "needs_background": "light"
     },
     "output_type": "display_data"
    }
   ],
   "source": [
    "# Create a bar plot for the number of matches hosted by each venue\n",
    "plt.figure(figsize=(12, 6))\n",
    "matches_by_venue.sort_values(ascending=False).plot(kind='bar', color='orange')\n",
    "plt.title('Number of Matches Hosted by Each Venue')\n",
    "plt.xlabel('Venue')\n",
    "plt.ylabel('Number of Matches')\n",
    "plt.show()"
   ]
  },
  {
   "cell_type": "markdown",
   "id": "e3b4c2db",
   "metadata": {},
   "source": [
    "## 16. In 2017 when sunrisers hyderabad clashed against Royal Challengers Bangalore which team player won player of the match?"
   ]
  },
  {
   "cell_type": "code",
   "execution_count": 122,
   "id": "7d30050e",
   "metadata": {},
   "outputs": [
    {
     "name": "stdout",
     "output_type": "stream",
     "text": [
      "In the match between Sunrisers Hyderabad and Royal Challengers Bangalore in 2017, the Player of the Match was Yuvraj Singh.\n"
     ]
    }
   ],
   "source": [
    "# Filter data for the match between Sunrisers Hyderabad and Royal Challengers Bangalore in 2017\n",
    "match_2017 = ipl[(ipl['team1'] == 'Sunrisers Hyderabad') & (ipl['team2'] == 'Royal Challengers Bangalore') & (ipl['season'] == 2017)]\n",
    "\n",
    "# Check if the match data is not empty\n",
    "if not match_2017.empty:\n",
    "# Extract the player of the match for that specific match\n",
    "    player_of_the_match = match_2017['player_of_match'].iloc[0]\n",
    "    print(f\"In the match between Sunrisers Hyderabad and Royal Challengers Bangalore in 2017, the Player of the Match was {player_of_the_match}.\")\n",
    "else:\n",
    "    print(\"No data available for the specified match in 2017.\")"
   ]
  },
  {
   "cell_type": "code",
   "execution_count": 124,
   "id": "fe919062",
   "metadata": {},
   "outputs": [
    {
     "data": {
      "image/png": "[encoded data removed]",
      "text/plain": [
       "<Figure size 576x288 with 1 Axes>"
      ]
     },
     "metadata": {
      "needs_background": "light"
     },
     "output_type": "display_data"
    }
   ],
   "source": [
    "# Create a bar plot for the Player of the Match\n",
    "plt.figure(figsize=(8, 4))\n",
    "match_2017['player_of_match'].value_counts().plot(kind='bar', color='purple')\n",
    "plt.title(f\"Player of the Match Awards for Sunrisers Hyderabad vs. RCB in 2017\")\n",
    "plt.xlabel(\"Player\")\n",
    "plt.ylabel(\"Number of Player of the Match Awards\")\n",
    "plt.show()\n"
   ]
  },
  {
   "cell_type": "markdown",
   "id": "a67e421e",
   "metadata": {},
   "source": [
    "## 17. Across seasons who are the top three batsman's with most number of run out?"
   ]
  },
  {
   "cell_type": "code",
   "execution_count": 125,
   "id": "ea8e2633",
   "metadata": {},
   "outputs": [
    {
     "name": "stdout",
     "output_type": "stream",
     "text": [
      "Top three batsmen with the most number of run-outs:\n",
      "MS Dhoni      21\n",
      "RG Sharma     17\n",
      "KD Karthik    16\n",
      "Name: batsman, dtype: int64\n"
     ]
    }
   ],
   "source": [
    "# Filter data for run-outs\n",
    "run_outs = ipl[ipl['dismissal_kind'] == 'run out']\n",
    "\n",
    "# Group by batsman and count the number of run-outs\n",
    "run_out_counts = run_outs['batsman'].value_counts()\n",
    "\n",
    "# Get the top three batsmen with the most run-outs\n",
    "top_three_run_outs = run_out_counts.head(3)\n",
    "print(\"Top three batsmen with the most number of run-outs:\")\n",
    "print(top_three_run_outs)"
   ]
  },
  {
   "cell_type": "code",
   "execution_count": 126,
   "id": "b7a246a0",
   "metadata": {},
   "outputs": [
    {
     "data": {
      "image/png": "[encoded data removed]",
      "text/plain": [
       "<Figure size 720x432 with 1 Axes>"
      ]
     },
     "metadata": {
      "needs_background": "light"
     },
     "output_type": "display_data"
    }
   ],
   "source": [
    "# Create a bar plot for the top three batsmen with the most run-outs\n",
    "plt.figure(figsize=(10, 6))\n",
    "top_three_run_outs.sort_values(ascending=False).plot(kind='bar', color='skyblue')\n",
    "plt.title('Top Three Batsmen with the Most Run-Outs')\n",
    "plt.xlabel('Batsman')\n",
    "plt.ylabel('Number of Run-Outs')\n",
    "plt.xticks(rotation=45)\n",
    "plt.show()"
   ]
  },
  {
   "cell_type": "markdown",
   "id": "afb0a499",
   "metadata": {},
   "source": [
    "## 18.  What are the total runs scored by V Kohli when the bowler was JJ Burmah?"
   ]
  },
  {
   "cell_type": "code",
   "execution_count": 146,
   "id": "2813c9f3",
   "metadata": {},
   "outputs": [
    {
     "name": "stdout",
     "output_type": "stream",
     "text": [
      "Total runs scored by Virat Kohli when facing Jasprit Bumrah: 114\n"
     ]
    }
   ],
   "source": [
    "# Filter data for Virat Kohli facing Jasprit Bumrah\n",
    "kohli_vs_bumrah = ipl[(ipl['batsman'] == 'V Kohli') & (ipl['bowler'] == 'JJ Bumrah')]\n",
    "\n",
    "# Calculate the total runs scored by Virat Kohli against Jasprit Bumrah, including extras\n",
    "total_runs_by_kohli_vs_bumrah = kohli_vs_bumrah['total_runs'].sum()\n",
    "\n",
    "# Print the result\n",
    "print(f\"Total runs scored by Virat Kohli when facing Jasprit Bumrah: {total_runs_by_kohli_vs_bumrah}\")"
   ]
  },
  {
   "cell_type": "code",
   "execution_count": null,
   "id": "c7836a9f",
   "metadata": {},
   "outputs": [],
   "source": []
  },
  {
   "cell_type": "markdown",
   "id": "98c89c17",
   "metadata": {},
   "source": [
    "## 19.Across all seasons which player was dismissed the maximum number of times via caught and bowled"
   ]
  },
  {
   "cell_type": "code",
   "execution_count": 130,
   "id": "639aec34",
   "metadata": {},
   "outputs": [
    {
     "name": "stdout",
     "output_type": "stream",
     "text": [
      "The player dismissed the maximum number of times via caught and bowled is SK Raina with 7 dismissals.\n"
     ]
    }
   ],
   "source": [
    "# Filter data for dismissals via caught and bowled\n",
    "caught_and_bowled_dismissals = ipl[ipl['dismissal_kind'] == 'caught and bowled']\n",
    "\n",
    "# Group by batsman and count the number of dismissals\n",
    "dismissals_count = caught_and_bowled_dismissals['batsman'].value_counts()\n",
    "\n",
    "# Identify the player with the maximum number of caught and bowled dismissals\n",
    "max_dismissals_player = dismissals_count.idxmax()\n",
    "max_dismissals_count = dismissals_count.max()\n",
    "print(f\"The player dismissed the maximum number of times via caught and bowled is {max_dismissals_player} with {max_dismissals_count} dismissals.\")"
   ]
  },
  {
   "cell_type": "code",
   "execution_count": 132,
   "id": "7a4cf413",
   "metadata": {},
   "outputs": [
    {
     "data": {
      "image/png": "[encoded data removed]",
      "text/plain": [
       "<Figure size 864x432 with 1 Axes>"
      ]
     },
     "metadata": {
      "needs_background": "light"
     },
     "output_type": "display_data"
    }
   ],
   "source": [
    "# Identify the top players with the most caught and bowled dismissals\n",
    "top_players = dismissals_count.head(10)  # You can adjust the number of top players to display\n",
    "\n",
    "# Create a bar plot for the top players with caught and bowled dismissals\n",
    "plt.figure(figsize=(12, 6))\n",
    "top_players.sort_values(ascending=False).plot(kind='bar', color='skyblue')\n",
    "plt.title('Top Players with Caught and Bowled Dismissals')\n",
    "plt.xlabel('Player')\n",
    "plt.ylabel('Number of Dismissals')\n",
    "plt.xticks(rotation=45)\n",
    "plt.show()"
   ]
  },
  {
   "cell_type": "markdown",
   "id": "0925d5d8",
   "metadata": {},
   "source": [
    "## 20. Which player has the highest hard-hitting ability?"
   ]
  },
  {
   "cell_type": "code",
   "execution_count": 154,
   "id": "85805979",
   "metadata": {},
   "outputs": [
    {
     "name": "stdout",
     "output_type": "stream",
     "text": [
      "The player with the highest hard-hitting ability (based on strike rate) among the specified players is V Kohli with a strike rate of 600.00.\n"
     ]
    }
   ],
   "source": [
    "# Make sure to replace these column names with the actual column names in your dataset\n",
    "ipl['strike_rate'] = (ipl['total_runs'] / ipl['ball']) * 100\n",
    "\n",
    "# List of players\n",
    "players = ['MS Dhoni', 'V Kohli', 'CH Gayle', 'AB de Villiers']\n",
    "\n",
    "#Find the player with the highest strike rate among the specified players\n",
    "highest_strike_rate_player = ipl[ipl['batsman'].isin(players)].nlargest(1, 'strike_rate')\n",
    "print(f\"The player with the highest hard-hitting ability (based on strike rate) among the specified players is {highest_strike_rate_player['batsman'].values[0]} with a strike rate of {highest_strike_rate_player['strike_rate'].values[0]:.2f}.\")\n"
   ]
  },
  {
   "cell_type": "code",
   "execution_count": null,
   "id": "bb941cea",
   "metadata": {},
   "outputs": [],
   "source": []
  }
 ],
 "metadata": {
  "kernelspec": {
   "display_name": "Python 3 (ipykernel)",
   "language": "python",
   "name": "python3"
  },
  "language_info": {
   "codemirror_mode": {
    "name": "ipython",
    "version": 3
   },
   "file_extension": ".py",
   "mimetype": "text/x-python",
   "name": "python",
   "nbconvert_exporter": "python",
   "pygments_lexer": "ipython3",
   "version": "3.9.7"
  }
 },
 "nbformat": 4,
 "nbformat_minor": 5
}
